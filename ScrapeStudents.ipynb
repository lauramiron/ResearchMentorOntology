{
 "cells": [
  {
   "cell_type": "code",
   "execution_count": 1,
   "metadata": {},
   "outputs": [],
   "source": [
    "import time\n",
    "import pickle\n",
    "from selenium import webdriver\n",
    "from selenium.webdriver.support.ui import WebDriverWait\n",
    "from selenium.webdriver.support import expected_conditions as EC\n",
    "from selenium.common.exceptions import TimeoutException"
   ]
  },
  {
   "cell_type": "code",
   "execution_count": 2,
   "metadata": {},
   "outputs": [
    {
     "data": {
      "text/plain": [
       "get_ontology(\"http://www.semanticweb.org/lauramiron/ontologies/2019/1/merged-research-mentor#\")"
      ]
     },
     "execution_count": 2,
     "metadata": {},
     "output_type": "execute_result"
    }
   ],
   "source": [
    "# fix professors\n",
    "from owlready2 import *\n",
    "main_onto_name = 'main-ResearchMentorOntology.owl'\n",
    "onto_path.append(\"/Users/lauramiron/Desktop/CS270/project\")\n",
    "onto_path.append(\"http://www.w3.org/2003/06/sw-vocab-status/ns#\")\n",
    "onto_path.append(\"http://www.w3.org/2002/07/owl#\")\n",
    "onto_path.append(\"http://www.w3.org/1999/02/22-rdf-syntax-ns#\")\n",
    "onto_path.append(\"http://www.w3.org/XML/1998/namespace\")\n",
    "onto_path.append(\"http://www.w3.org/2001/XMLSchema\")\n",
    "onto_path.append(\"http://vivoweb.org/ontology/core\")\n",
    "onto_path.append(\"http://www.w3.org/2000/01/rdf-schema\")\n",
    "onto_path.append(\"http://purl.org/dc/terms\")\n",
    "onto = get_ontology(main_onto_name)\n",
    "vivoNS = onto.get_namespace(\"http://vivoweb.org/ontology/core\")\n",
    "onto.load()"
   ]
  },
  {
   "cell_type": "code",
   "execution_count": 23,
   "metadata": {},
   "outputs": [],
   "source": [
    "# scrape biox students\n",
    "\n",
    "biox_student_url = 'https://biox.stanford.edu/about/people/profiles-by-year?title&field_group_tid=29&field_award_year_value%5Bvalue%5D%5Byear%5D=&page='\n",
    "driver = webdriver.Chrome()\n",
    "bio_student_dict = {}\n",
    "print('scraping biox graduate fellows...')\n",
    "for pg_num in range(0,27):\n",
    "    print(pg_num)\n",
    "    url = biox_student_url+str(pg_num)\n",
    "    driver.get(url)\n",
    "    time.sleep(3)\n",
    "    profiles = driver.find_elements_by_class_name(\"node-profile\")\n",
    "    for prof in profiles:\n",
    "        try:\n",
    "            name = prof.find_element_by_tag_name('a').get_attribute('innerText').split('-')[0].strip()\n",
    "            first_name = name.split(' ')[0]\n",
    "            last_name = name.split(' ')[1]\n",
    "            indiv_name = first_name+last_name\n",
    "            info_node = prof.find_element_by_class_name('field-type-text-with-summary')\n",
    "            awarded_text = info_node.find_element_by_class_name('field-item').get_attribute('innerText')\n",
    "            year = int(awarded_text.split('\\n')[0].split(' ')[2])\n",
    "            print(year)\n",
    "            if year >= 2014:\n",
    "                print(first_name, last_name)\n",
    "                data = {'firstName':first_name,'lastName':last_name, 'faculty':[]}\n",
    "#                 facs = re.split('(and)|(,)',awarded_text.split('\\n')[2].split(':')[1].strip())\n",
    "                facs = re.sub('(and)|(\\(.*\\))','000',awarded_text.split('\\n')[2].split(':')[1].strip())\n",
    "                for f in facs.split('000'):\n",
    "                    if f==None: continue\n",
    "                    fac = f.strip().strip('and').strip().strip(',').strip()\n",
    "                    iname = ''\n",
    "                    for nm in fac.split(' '):\n",
    "                        print(nm)\n",
    "                        iname += nm\n",
    "                    data['faculty'].append(iname)\n",
    "                    print(iname)\n",
    "                bio_student_dict[indiv_name] = data\n",
    "        except Exception as e:\n",
    "            continue\n",
    "driver.quit()\n",
    "with open('biox_phd.p','wb+') as f:\n",
    "    pickle.dump(bio_student_dict,f)\n"
   ]
  },
  {
   "cell_type": "code",
   "execution_count": 3,
   "metadata": {},
   "outputs": [
    {
     "ename": "NameError",
     "evalue": "name 'webdriver' is not defined",
     "output_type": "error",
     "traceback": [
      "\u001b[0;31m---------------------------------------------------------------------------\u001b[0m",
      "\u001b[0;31mNameError\u001b[0m                                 Traceback (most recent call last)",
      "\u001b[0;32m<ipython-input-3-64e587306bfe>\u001b[0m in \u001b[0;36m<module>\u001b[0;34m\u001b[0m\n\u001b[1;32m      2\u001b[0m \u001b[0mmed_students_base_url\u001b[0m \u001b[0;34m=\u001b[0m \u001b[0;34m'https://med.stanford.edu/profiles/browse?p={0}&affiliations=capMdStudent&ps=100'\u001b[0m\u001b[0;34m\u001b[0m\u001b[0;34m\u001b[0m\u001b[0m\n\u001b[1;32m      3\u001b[0m \u001b[0;34m\u001b[0m\u001b[0m\n\u001b[0;32m----> 4\u001b[0;31m \u001b[0mdriver\u001b[0m \u001b[0;34m=\u001b[0m \u001b[0mwebdriver\u001b[0m\u001b[0;34m.\u001b[0m\u001b[0mChrome\u001b[0m\u001b[0;34m(\u001b[0m\u001b[0;34m)\u001b[0m\u001b[0;34m\u001b[0m\u001b[0;34m\u001b[0m\u001b[0m\n\u001b[0m\u001b[1;32m      5\u001b[0m \u001b[0mmed_student_dict\u001b[0m \u001b[0;34m=\u001b[0m \u001b[0;34m{\u001b[0m\u001b[0;34m}\u001b[0m\u001b[0;34m\u001b[0m\u001b[0;34m\u001b[0m\u001b[0m\n\u001b[1;32m      6\u001b[0m \u001b[0mprint\u001b[0m\u001b[0;34m(\u001b[0m\u001b[0;34m'scraping med students...'\u001b[0m\u001b[0;34m)\u001b[0m\u001b[0;34m\u001b[0m\u001b[0;34m\u001b[0m\u001b[0m\n",
      "\u001b[0;31mNameError\u001b[0m: name 'webdriver' is not defined"
     ]
    }
   ],
   "source": [
    "# scrape med students\n",
    "med_students_base_url = 'https://med.stanford.edu/profiles/browse?p={0}&affiliations=capMdStudent&ps=100'\n",
    "\n",
    "driver = webdriver.Chrome()\n",
    "med_student_dict = {}\n",
    "print('scraping med students...')\n",
    "for pg_num in range(1,4):\n",
    "    print('downloading page '+str(pg_num))\n",
    "    url = med_students_base_url.format(pg_num)\n",
    "    driver.get(url)\n",
    "    time.sleep(8)\n",
    "    profiles = driver.find_elements_by_class_name(\"mini-profile\")\n",
    "    for pfl in profiles:\n",
    "        media_heading_elem = pfl.find_element_by_class_name(\"media-heading\")\n",
    "        url_name = media_heading_elem.get_attribute(\"href\").split('/')[-1]\n",
    "        name = media_heading_elem.find_element_by_tag_name('h4').get_attribute('innerText')\n",
    "        first_name = name.split(' ')[0].replace(' ','')\n",
    "        last_name = name.split(' ')[-1].replace(' ','')\n",
    "        program_info = media_heading_elem.find_element_by_tag_name('h5').get_attribute('innerText')\n",
    "        program = program_info.split(' ')[0]\n",
    "        grad_year = program_info.split(' ')[-1]\n",
    "        med_student_dict[url_name] = {'firstName':first_name, 'lastName': last_name, 'program': program, 'gradDate': grad_year}\n",
    "driver.quit()\n",
    "med_student_dict_name = 'med_student_simple.p'\n",
    "print('saving to '+med_student_dict_name)        \n",
    "with open(med_student_dict_name,'wb+') as f:\n",
    "    pickle.dump(med_student_dict,f)"
   ]
  },
  {
   "cell_type": "code",
   "execution_count": 7,
   "metadata": {},
   "outputs": [
    {
     "name": "stdout",
     "output_type": "stream",
     "text": [
      "SamSanjivGambhir\n"
     ]
    },
    {
     "ename": "TypeError",
     "evalue": "unsupported operand type(s) for +: 'NoneType' and 'str'",
     "output_type": "error",
     "traceback": [
      "\u001b[0;31m---------------------------------------------------------------------------\u001b[0m",
      "\u001b[0;31mTypeError\u001b[0m                                 Traceback (most recent call last)",
      "\u001b[0;32m<ipython-input-7-76337f6f2996>\u001b[0m in \u001b[0;36m<module>\u001b[0;34m\u001b[0m\n\u001b[1;32m     37\u001b[0m         \u001b[0;32mif\u001b[0m \u001b[0;32mnot\u001b[0m \u001b[0mfac\u001b[0m\u001b[0;34m:\u001b[0m \u001b[0;32mcontinue\u001b[0m\u001b[0;34m\u001b[0m\u001b[0;34m\u001b[0m\u001b[0m\n\u001b[1;32m     38\u001b[0m         \u001b[0mprint\u001b[0m\u001b[0;34m(\u001b[0m\u001b[0mfac\u001b[0m\u001b[0;34m)\u001b[0m\u001b[0;34m\u001b[0m\u001b[0;34m\u001b[0m\u001b[0m\n\u001b[0;32m---> 39\u001b[0;31m         \u001b[0mfac_indiv\u001b[0m \u001b[0;34m=\u001b[0m \u001b[0monto\u001b[0m\u001b[0;34m.\u001b[0m\u001b[0msearch_one\u001b[0m\u001b[0;34m(\u001b[0m\u001b[0miri\u001b[0m\u001b[0;34m=\u001b[0m\u001b[0mvivoNS\u001b[0m\u001b[0;34m.\u001b[0m\u001b[0miri\u001b[0m\u001b[0;34m+\u001b[0m\u001b[0mfac\u001b[0m\u001b[0;34m,\u001b[0m\u001b[0mis_a\u001b[0m\u001b[0;34m=\u001b[0m\u001b[0mvivoNS\u001b[0m\u001b[0;34m.\u001b[0m\u001b[0mFacultyMember\u001b[0m\u001b[0;34m)\u001b[0m\u001b[0;34m\u001b[0m\u001b[0;34m\u001b[0m\u001b[0m\n\u001b[0m\u001b[1;32m     40\u001b[0m         \u001b[0;32mif\u001b[0m \u001b[0;34m(\u001b[0m\u001b[0mfac_indiv\u001b[0m\u001b[0;34m)\u001b[0m\u001b[0;34m:\u001b[0m\u001b[0;34m\u001b[0m\u001b[0;34m\u001b[0m\u001b[0m\n\u001b[1;32m     41\u001b[0m             \u001b[0mprint\u001b[0m\u001b[0;34m(\u001b[0m\u001b[0mfac_indiv\u001b[0m\u001b[0;34m)\u001b[0m\u001b[0;34m\u001b[0m\u001b[0;34m\u001b[0m\u001b[0m\n",
      "\u001b[0;31mTypeError\u001b[0m: unsupported operand type(s) for +: 'NoneType' and 'str'"
     ]
    }
   ],
   "source": [
    "# add med students to ontology\n",
    "# med_student_profile_url = 'https://med.stanford.edu/profiles/'\n",
    "# main_onto_name = 'main-ResearchMentorOntology.owl'\n",
    "# med_student_dict_name = 'med_student_simple.p'\n",
    "# med_student_dict = pickle.load(open(med_student_dict_name,'rb'))\n",
    "\n",
    "# for url_name, values in med_student_dict.items():\n",
    "#     first_name = values['firstName']\n",
    "#     last_name = values['lastName']\n",
    "#     program = values['program']\n",
    "#     grad_year = values['gradDate']\n",
    "    \n",
    "#     med_indiv = onto.MedicalStudent((first_name+last_name).replace(' ',''))\n",
    "#     med_indiv.firstName = first_name\n",
    "#     med_indiv.lastName = last_name\n",
    "#     med_indiv.graduationDateExp.append(grad_year)\n",
    "#     med_indiv.uri = url_name\n",
    "#     med_indiv.hasProfilePage.append(med_student_profile_url+url_name)\n",
    "\n",
    "# onto.save()\n",
    "\n",
    "biox_student_profile_url = 'https://biox.stanford.edu/about/people/undergraduate-fellows/{0}-bio-x-sigf-fellow'\n",
    "biox_student_dict_name = 'biox_phd.p'\n",
    "biox_student_dict = pickle.load(open(biox_student_dict_name,'rb'))\n",
    "\n",
    "for iname, values in biox_student_dict.items():\n",
    "    if ('(' in iname) or ('\"' in iname): continue\n",
    "    first_name = values['firstName']\n",
    "    last_name = values['lastName']\n",
    "#     print(iname)\n",
    "    indiv = onto.DoctoralStudent(iname)\n",
    "    indiv.firstName = first_name\n",
    "    indiv.lastName = last_name\n",
    "    profile_url = biox_student_profile_url.format(first_name+'-'+last_name)\n",
    "#     indiv.hasProfilePage.append(profile_url)\n",
    "    for fac in values['faculty']:\n",
    "        if not fac: continue\n",
    "        print(fac)\n",
    "        fac_indiv = onto.search_one(iri='*'+fac,is_a=vivoNS.FacultyMember)\n",
    "        if (fac_indiv):\n",
    "            print(fac_indiv)\n",
    "#             print(type(fac_indiv))\n",
    "#             print(fac_indiv.name)\n",
    "            indiv.mentoredBy.append(fac_indiv)\n",
    "onto.save()"
   ]
  },
  {
   "cell_type": "code",
   "execution_count": null,
   "metadata": {},
   "outputs": [],
   "source": [
    "# data sources\n",
    "# med school students\n",
    "# https://med.stanford.edu/profiles/browse?p=1&affiliations=capMdStudent&ps=100\n",
    "\n",
    "# biox undergraduates\n",
    "#'https://biox.stanford.edu/about/people/profiles-by-year?title&field_group_tid=31&field_award_year_value%5Bvalue%5D%5Byear%5D=&page='\n",
    "\n",
    "# biox graduates\n",
    "#https://biox.stanford.edu/about/people/profiles-by-year?title&field_group_tid=29&field_award_year_value%5Bvalue%5D%5Byear%5D="
   ]
  }
 ],
 "metadata": {
  "kernelspec": {
   "display_name": "Python [conda env:root]",
   "language": "python",
   "name": "conda-root-py"
  },
  "language_info": {
   "codemirror_mode": {
    "name": "ipython",
    "version": 3
   },
   "file_extension": ".py",
   "mimetype": "text/x-python",
   "name": "python",
   "nbconvert_exporter": "python",
   "pygments_lexer": "ipython3",
   "version": "3.7.1"
  }
 },
 "nbformat": 4,
 "nbformat_minor": 2
}
