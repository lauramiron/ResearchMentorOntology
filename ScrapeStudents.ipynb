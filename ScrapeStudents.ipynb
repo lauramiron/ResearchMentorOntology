{
 "cells": [
  {
   "cell_type": "code",
   "execution_count": 1,
   "metadata": {},
   "outputs": [],
   "source": [
    "import time\n",
    "import pickle\n",
    "from selenium import webdriver\n",
    "from selenium.webdriver.support.ui import WebDriverWait\n",
    "from selenium.webdriver.support import expected_conditions as EC\n",
    "from selenium.common.exceptions import TimeoutException"
   ]
  },
  {
   "cell_type": "code",
   "execution_count": 2,
   "metadata": {},
   "outputs": [],
   "source": [
    "# fix professors\n",
    "from owlready2 import *\n",
    "main_onto_name = 'main-ResearchMentorOntology.owl'\n",
    "onto_path.append(\"/Users/lauramiron/Desktop/CS270/project\")\n",
    "onto = get_ontology(main_onto_name)\n",
    "vivoNS = onto.get_namespace(\"http://vivoweb.org/ontology/core\")\n",
    "onto.load()\n",
    "\n",
    "for i in vivoNS.FacultyMember.instances():\n",
    "    for RA in i.hasResearchArea:\n",
    "        i.hasResearchArea.remove(RA)\n",
    "onto.save()"
   ]
  },
  {
   "cell_type": "code",
   "execution_count": 7,
   "metadata": {},
   "outputs": [
    {
     "name": "stdout",
     "output_type": "stream",
     "text": [
      "scraping med students...\n",
      "downloading page 1\n",
      "downloading page 2\n",
      "downloading page 3\n",
      "saving to med_student_simple.p\n"
     ]
    }
   ],
   "source": [
    "import pdb\n",
    "med_students_base_url = 'https://med.stanford.edu/profiles/browse?p={0}&affiliations=capMdStudent&ps=100'\n",
    "\n",
    "driver = webdriver.Chrome()\n",
    "med_student_dict = {}\n",
    "print('scraping med students...')\n",
    "for pg_num in range(1,4):\n",
    "    print('downloading page '+str(pg_num))\n",
    "    url = med_students_base_url.format(pg_num)\n",
    "    driver.get(url)\n",
    "    time.sleep(8)\n",
    "    profiles = driver.find_elements_by_class_name(\"mini-profile\")\n",
    "    for pfl in profiles:\n",
    "        media_heading_elem = pfl.find_element_by_class_name(\"media-heading\")\n",
    "        url_name = media_heading_elem.get_attribute(\"href\").split('/')[-1]\n",
    "        name = media_heading_elem.find_element_by_tag_name('h4').get_attribute('innerText')\n",
    "        first_name = name.split(' ')[0].replace(' ','')\n",
    "        last_name = name.split(' ')[-1].replace(' ','')\n",
    "        program_info = media_heading_elem.find_element_by_tag_name('h5').get_attribute('innerText')\n",
    "        program = program_info.split(' ')[0]\n",
    "        grad_year = program_info.split(' ')[-1]\n",
    "        med_student_dict[url_name] = {'firstName':first_name, 'lastName': last_name, 'program': program, 'gradDate': grad_year}\n",
    "driver.quit()\n",
    "med_student_dict_name = 'med_student_simple.p'\n",
    "print('saving to '+med_student_dict_name)        \n",
    "with open(med_student_dict_name,'wb+') as f:\n",
    "    pickle.dump(med_student_dict,f)"
   ]
  },
  {
   "cell_type": "code",
   "execution_count": 1,
   "metadata": {},
   "outputs": [],
   "source": [
    "from owlready2 import *"
   ]
  },
  {
   "cell_type": "code",
   "execution_count": 14,
   "metadata": {},
   "outputs": [],
   "source": [
    "med_student_profile_url = 'https://med.stanford.edu/profiles/'\n",
    "main_onto_name = 'main-ResearchMentorOntology.owl'\n",
    "med_student_dict_name = 'med_student_simple.p'\n",
    "med_student_dict = pickle.load(open(med_student_dict_name,'rb'))\n",
    "\n",
    "onto_path.append(\"/Users/lauramiron/Desktop/CS270/project\")\n",
    "onto = get_ontology(main_onto_name)\n",
    "vivoNS = onto.get_namespace(\"http://vivoweb.org/ontology/core\")\n",
    "onto.load()\n",
    "\n",
    "for url_name, values in med_student_dict.items():\n",
    "    first_name = values['firstName']\n",
    "    last_name = values['lastName']\n",
    "    program = values['program']\n",
    "    grad_year = values['gradDate']\n",
    "    \n",
    "    med_indiv = onto.MedicalStudent((first_name+last_name).replace(' ',''))\n",
    "    med_indiv.firstName = first_name\n",
    "    med_indiv.lastName = last_name\n",
    "    med_indiv.graduationDateExp.append(grad_year)\n",
    "    med_indiv.uri = url_name\n",
    "    med_indiv.hasProfilePage.append(med_student_profile_url+url_name)\n",
    "\n",
    "onto.save()"
   ]
  },
  {
   "cell_type": "code",
   "execution_count": null,
   "metadata": {},
   "outputs": [],
   "source": [
    "# add MESH terms and PubMed articles\n"
   ]
  }
 ],
 "metadata": {
  "kernelspec": {
   "display_name": "Python [conda env:root]",
   "language": "python",
   "name": "conda-root-py"
  },
  "language_info": {
   "codemirror_mode": {
    "name": "ipython",
    "version": 3
   },
   "file_extension": ".py",
   "mimetype": "text/x-python",
   "name": "python",
   "nbconvert_exporter": "python",
   "pygments_lexer": "ipython3",
   "version": "3.7.1"
  }
 },
 "nbformat": 4,
 "nbformat_minor": 2
}
