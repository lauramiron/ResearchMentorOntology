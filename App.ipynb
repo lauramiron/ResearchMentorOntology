{
 "cells": [
  {
   "cell_type": "code",
   "execution_count": 1,
   "metadata": {},
   "outputs": [],
   "source": [
    "from tkinter import *\n",
    "from owlready2 import *\n",
    "import pandas as pd\n",
    "import datetime, math\n",
    "import rdflib"
   ]
  },
  {
   "cell_type": "code",
   "execution_count": 2,
   "metadata": {},
   "outputs": [
    {
     "name": "stdout",
     "output_type": "stream",
     "text": [
      "[core.StanfordMedicineandBiochemistryDepartment, core.StanfordvelopmentalBiologyDepartment, core.StanfordNeurosurgeryDepartment, core.StanfordNeurologyandNeurologicalSciencesDepartment, core.StanfordBiologyandGeneticsDepartment, core.StanfordOtolaryngologyDepartment, core.StanfordGeneticsandStanfordCenterforBiomedicalEthicsDepartment, core.StanfordBioengineeringDepartment, core.StanfordNeurologicalSciencesandInterdepartmentalPrograminImmunologyDepartment, core.StanfordRadiationOncologyandCancerInstituDepartment, core.StanfordBiologyandHowardHughesMedicalInstituDepartment, core.StanfordRadiationOncologyandStanfordCancerInstituDepartment, core.StanfordOrthopaedicSurgeryDepartment, core.StanfordOrthopedicSurgeryDepartment, core.StanfordNeurologyDepartment, core.StanfordBioengineeringandStanfordMedicalSchoolDepartment, core.StanfordSociologyDepartment, core.StanfordBiomedicalDataSciencesDepartment, core.StanfordAnesthesiologyandMediciDepartment, core.StanfordAnesthesiologyandPainManagDepartment, core.StanfordAnesthesiologyandPerioperativeCDepartment, core.StanfordAnesthesiologyandPerioperativeMediciDepartment, core.StanfordAnthropologicalSciencesDepartment, core.StanfordAnthropology.StanfordUniversityDepartment, core.StanfordAnthropologyDepartment, core.StanfordAnthropologyandBiologyDepartment, core.StanfordAnthropologyandMorrisonInstituteforPopulationandResourceStudiesDepartment, core.StanfordAnthropologyandWoodsInstituteoftheEnviDepartment, core.StanfordAppliedPhysicsDepartment, core.StanfordAthleticsDepartment, core.StanfordAthleticsandPhysicalEducatiDepartment, core.StanfordBehavioralSciencesDepartment, core.StanfordBiDepartment, core.StanfordBiochemistryandDevelopmentalBiologyDepartment, core.StanfordBiochemistryandHowardHughesMedicalInstituDepartment, core.StanfordBiochemistryandStanfordGenomeTechnologyCDepartment, core.StanfordBioengineeringandChEMDepartment, core.StanfordBioengineeringandElectricalEngineeringDepartment, core.StanfordBiologicalSciencDepartment, core.StanfordBiologicalSciencesandBioXProgDepartment, core.StanfordBiologicalSciencesandInstituteforInternationalStudiesDepartment, core.StanfordBiologicalSciencesandJasperRidgeBiologicalPreservDepartment, core.StanfordBiologicalSciencesandPrograminNeurosciencDepartment, core.StanfordBiologyMC5020Department, core.StanfordAeronauticsandAstronauticsDepartment, core.StanfordAerospaceandAstrophysicsDepartment, core.StanfordAnaesthesiDepartment, core.StanfordAnaesthesiologyDepartment, core.StanfordAnesthesiDepartment, core.StanfordAnesthesiaS278Department, core.StanfordAnesthesiaandCardiothoracicSurgeryDepartment, core.StanfordAnesthesiaandGynecologyandObstetricsDepartment, core.StanfordAnesthesiaandHealthResearchandPolicyDepartment, core.StanfordAnesthesiaandObstetricsandGynecologyDepartment, core.StanfordAnesthesiologyDepartment, core.StanfordBiologyandMolelcularandCellularPhysiologyDepartment, core.StanfordBiologyandMorrisonInstituteforPopulationandResourceStudiesDepartment, core.StanfordBiologyandStanfordWoodsInstituDepartment, core.StanfordBiologyandWoodsInstitutefortheEnviDepartment, core.StanfordBiologyatStanfordUniversityDepartment, core.StanfordBiomedicalDataSciencesandStatisticsDepartment, core.StanfordBiomedicalEngineeringDepartment, core.StanfordBiostatisticsDepartment, core.StanfordBiostatisticsinPsychiatryDepartment, core.StanfordBloodandMarrowTransplantatiDepartment, core.StanfordCHEMDepartment, core.StanfordCardiacSurgeryDepartment, core.StanfordCardiacTransplDepartment, core.StanfordCardiologyDepartment, core.StanfordCardiothoracicSurgeryDepartment, core.StanfordCardiothoracicSurgeryandMediciDepartment, core.StanfordCardiothoracicSurgeryandStanfordCardiovascularInstituDepartment, core.StanfordCardiothroacicSurgeryDepartment, core.StanfordCardiovascularSurgeryDepartment, core.StanfordCardiovascularSurgeryandtheDivisionofCardiovascularMediciDepartment, core.StanfordCardiovascularandInterventionalRadiologyDepartment, core.StanfordCardiovascularandThoracicSurgeryDepartment, core.StanfordCardiovascularandThoracicSurgeryandtheDivisionofCardiovascularInterventionalRadiologyDepartment, core.StanfordCardiovascularandThoracicSurgeryandtheDivisionofCardiovascularMediciDepartment, core.StanfordCellBiologyDepartment, core.StanfordCivilandEnvironmentEngineeringDepartment, core.StanfordCivilandEnvironmentalEngineeringDepartment, core.StanfordCivilandEnvironmentalEngineeringStanfordUniversityDepartment, core.StanfordCivilandEnvironmentalEngineeringandCodigaResourceRecoveryCDepartment, core.StanfordCivilandEnvironmentalEngineeringandReNUWItEngineeringResearchCDepartment, core.StanfordClassicsDepartment, core.StanfordClinicalDermatologyDepartment, core.StanfordClinicalInformaticsDepartment, core.StanfordClinicalNutritiDepartment, core.StanfordClinicalPathologyDepartment, core.StanfordCommunicatiDepartment, core.StanfordComparativeMediciDepartment, core.StanfordComputerScienceDepartmentofBiochemistryDepartment, core.StanfordCriticalCareMediciDepartment, core.StanfordCulturalandSocialAnthropologyDepartment, core.StanfordChemistryandBiophysicsProgDepartment, core.StanfordChemistryandLaboratoryforAdvancedMaterialsDepartment, core.StanfordChemistryandSchoolofMediciDepartment, core.StanfordChemistryandthePULSEInstituDepartment, core.StanfordChildNeurologyDepartment, core.StanfordChildNeurologyandMovementDisordersDepartment, core.StanfordChildPsychiatryandPediatricsDepartment, core.StanfordChildandAdolescentPsychiatryDepartment, core.StanfordChildandAdolescentPsychiatryatStanfordUniversityDepartment, core.StanfordCivilEngineeringDepartment, core.StanfordEconomicsDepartment, core.StanfordEducatiDepartment, core.StanfordElectricEngineeringDepartment, core.StanfordElectricalEngineeringStanfordUniversityDepartment, core.StanfordElectricalEngineeringandNeurosciencesProgDepartment, core.StanfordElectricalEngineeringandRadiologyDepartment, core.StanfordElectricalEngineeringatStanfordUniversityDepartment, core.StanfordEmergencyMediciDepartment, core.StanfordEmergencyMedicineStanfordUniversitySchoolofMediciDepartment, core.StanfordEmergencyMedicineandTrauDepartment, core.StanfordEmergencyServicesDepartment, core.StanfordEmergencyandSurgeryDepartment, core.StanfordEndocrinologyDepartment, core.StanfordEnergyResourcesEngineeringDepartment, core.StanfordEngineeringDepartment, core.StanfordEnvironmentalEarthSystemSciencDepartment, core.StanfordEnvironmentalEarthSystemScienceandCenteronFoodSecurityandtheEnviDepartment, core.StanfordEnvironmentalEarthSystemScienceandProgramonFoodSecurityandtheEnviDepartment, core.StanfordEnvironmentalEarthSystemScienceandWoodsInstitutefortheEnviDepartment, core.StanfordEnvironmentalEarthSystemsSciencDepartment, core.StanfordEnvironmentalHealthandSafetyDepartment, core.StanfordEnvironmentalandEarthSystemSciencDepartment, core.StanfordFacialPlasticandReconstructiveSurgeryDepartment, core.StanfordFamilyMediciDepartment, core.StanfordFunctionalRestoratiDepartment, core.StanfordGastroenterologyDepartment, core.StanfordEarthSystemSciencDepartment, core.StanfordEarthSystemScienceCenteronFoodSecurityandtheEnviDepartment, core.StanfordEarthSystemScienceandCenteronFoodSecurityandtheEnviDepartment, core.StanfordEarthSystemScienceandWoodsInstitutefortheEnviDepartment, core.StanfordEarthSystemScienceandtheCenteronFoodSecurityandtheEnviDepartment, core.StanfordEarthSystemSciencesDepartment, core.StanfordGastroenterologyandHepatologyDepartment, core.StanfordGeneralInternalMediciDepartment, core.StanfordGeneralMedicalDisciplinesDepartment, core.StanfordGeneralPediatricsDepartment, core.StanfordGeneralSurgeryDepartment, core.StanfordGeneticsand.DepartmentofBiochemistryDepartment, core.StanfordGeneticsandBiochemistryDepartment, core.StanfordGeneticsandBiologyDepartment, core.StanfordGeneticsandBiomedicalInformaticsTrainingProgDepartment, core.StanfordGeneticsandMicrobiologyDepartment, core.StanfordHumanBiologyDepartment, core.StanfordImmunologyandMicrobiologyDepartment, core.StanfordImmunologyandRheumatologyDepartment, core.StanfordIndustrialEngineeringDepartment, core.StanfordIndustrialEngineeringandEngineeringManagDepartment, core.StanfordInfectiousDiseasesDepartment, core.StanfordInfectiousDiseasesandGeographicMediciDepartment, core.StanfordInternalMediciDepartment, core.StanfordInterventionalRadiologyDepartment, core.StanfordLinguisticsDepartment, core.StanfordManagementScienceandEngineeringDepartment, core.StanfordManagementScienceandEngineeringatStanfordUniversityDepartment, core.StanfordMaterialScienceandEngineeringDepartment, core.StanfordMaterialsScienceandEngineeringDepartment, core.StanfordMathematicsDepartment, core.StanfordMechanicalEng.Department, core.StanfordMedicalEducatiDepartment, core.StanfordMedicalInformaticsDepartment, core.StanfordMedicalMicrobiologyDepartment, core.StanfordMedicalOncologyDepartment, core.StanfordMedicineOncologyDepartment, core.StanfordMedicineandCardiovascularInstituDepartment, core.StanfordMedicineandClinicalPharmacologyDepartment, core.StanfordMedicineandDermatologyDepartment, core.StanfordMedicineandGastroenterologyDepartment, core.StanfordMedicineandGeneticsDepartment, core.StanfordGeneticsandPediatricsDepartment, core.StanfordGeneticsandPrograminBiomedicalInformaticsDepartment, core.StanfordGeologicalSciencesDepartment, core.StanfordGeologicalSciencesandCenterforInternationalSecurityandCooperatiDepartment, core.StanfordGeologicalandEnvironmentalSciencDepartment, core.StanfordGeologicalandEnvironmentalSciencesDepartment, core.StanfordGeologyDepartment, core.StanfordGeophysicsDepartment, core.StanfordGeophysicsandInstituteforComputationalandMathematicalEngineeringDepartment, core.StanfordGlobalEcologyDepartment, core.StanfordGynandObDepartment, core.StanfordGynecologyandObstetricsDepartment, core.StanfordHeadandNeckSurgeryDepartment, core.StanfordHealthMediciDepartment, core.StanfordHealthPolicyandResearchDepartment, core.StanfordHealthResearchDepartment, core.StanfordHealthResearchPolicyDepartment, core.StanfordHealthResearchandPolicyandMediciDepartment, core.StanfordHealthResearchandPolicyandStanfordPreventionResearchCDepartment, core.StanfordHealthResearchandPolicyandofMediciDepartment, core.StanfordHealthResearchandPolicyandtheDepartmentofMediciDepartment, core.StanfordHealthServicesResearchandPolicyDepartment, core.StanfordHematologyDepartment, core.StanfordHematologyandOncologyDepartment, core.StanfordHistoryDepartment, core.StanfordHospiceandPalliativeMediciDepartment, core.StanfordMedicineandHealthDepartment, core.StanfordMedicineandHealthResearchandPolicyDepartment, core.StanfordMedicineandImmunologyandRheumatologyDepartment, core.StanfordMedicineandMicrobiologyandImmunologyDepartment, core.StanfordMedicineandNephrologyDepartment, core.StanfordMedicineandOncologyDepartment, core.StanfordMedicineandPediatricsDepartment, core.StanfordMedicineandRadiologyDepartment, core.StanfordMedicineandSurgeryDepartment, core.StanfordMedicineandtheDigestiveDiseaseCDepartment, core.StanfordNeurologyandNeurosciencesDepartment, core.StanfordNeurologyandNeurosciencesandCenterforSleepSciencesandMediciDepartment, core.StanfordNeurologyandPediatricsDepartment, core.StanfordNeurologyandtheStanfordStrokeCDepartment, core.StanfordNeuroradiologyDepartment, core.StanfordNeurosciencDepartment, core.StanfordNeurosurgeryStanfordUniversityDepartment, core.StanfordNeurosurgeryandHansenExperimentalPhysicsLaboratoryDepartment, core.StanfordNeurosurgeryandInstituteforStemCellBiologyandRegenerativeMediciDepartment, core.StanfordNeurosurgeryandStanfordStrokeCDepartment, core.StanfordNeurosurgeryandtheStanfordStrokeCDepartment, core.StanfordNutritionandFoodServicesDepartment, core.StanfordOBandGYNDepartment, core.StanfordObandGyDepartment, core.StanfordObstetricsDepartment, core.StanfordObstetricsandGynaecologyDepartment, core.StanfordObstetricsandGynecolgyDepartment, core.StanfordObstetricsandGynecologyDepartment, core.StanfordOncologyDepartment, core.StanfordOphthalmologyandByersEyeInstituDepartment, core.StanfordOphthlmologyDepartment, core.StanfordOpthalmologyDepartment, core.StanfordOralMedicineandMaxillofacialSurgeryDepartment, core.StanfordOrthopaedicSurgeryandBioengineeringDepartment, core.StanfordOrthopaedicsDepartment, core.StanfordOrthopaedicsandNeurosurgeryDepartment, core.StanfordMedicineandtheStanfordPreventionResearchCDepartment, core.StanfordMicrobiologyDepartment, core.StanfordMicrobiologyandImmunologyandtheHowardHughesMedicalInstituDepartment, core.StanfordMolecularPharmacologyDepartment, core.StanfordMolecularPhysiologyDepartment, core.StanfordMolecularandCellularPhysiologyand2DepartmentofChemicalEngineeringDepartment, core.StanfordMolecularandCellularPhysiologyandHowardHughesMedicalInstituDepartment, core.StanfordNeonatalandDevelopmentalMediciDepartment, core.StanfordNeonatologyDepartment, core.StanfordNephrologyDepartment, core.StanfordNeurobiologyDepartment, core.StanfordNeurobiologyandHowardHughesMedicalInstituDepartment, core.StanfordNeurobiologyandPrograminNeurosciencesDepartment, core.StanfordNeuroimagingandNeurointerventiDepartment, core.StanfordNeurologicalSurgeryDepartment, core.StanfordNeurologyandNeurologicSciencesDepartment, core.StanfordNeurologyandNeurologicalSciencDepartment, core.StanfordNeurologyandNeurologicalSciencesStanfordUniversityDepartment, core.StanfordNeurologyandNeurologicalSciencesStanfordUniversityMedicalCDepartment, core.StanfordNeurologyandNeurologicalSciencesandCenterforSleepSciencesandMediciDepartment, core.StanfordNeurologyandNeurologicalSciencesandCentreforSleepSciencesandMediciDepartment, core.StanfordNeurologyandNeurologicalSciencesandNeurobiologyDepartment, core.StanfordNeurologyandNeurologicalSciencesandStanfordStrokeCDepartment, core.StanfordNeurologyandNeurologicalSciencesandtheStanfordComprehensiveEpilepsyCDepartment, core.StanfordNeurologyandNeurologicalSciencesandtheStanfordStrokeCDepartment, core.StanfordNeurologyandNeurosciencDepartment, core.StanfordOrthopedicSurgeryandSportsMediciDepartment, core.StanfordOrthopedicsDepartment, core.StanfordOtolaryngologyHeadandNeckSurgeryDepartment, core.StanfordOtolaryngologyandHeadandNeckSurgeryDepartment, core.StanfordOtolaryngologyandHeadandNeckSurgeryandPediatricsDepartment, core.StanfordPaediatricsDepartment, core.StanfordPathologyL235Department, core.StanfordPathologyStanfordUniversityDepartment, core.StanfordPathologyandDermatologyDepartment, core.StanfordPathologyandInternalMediciDepartment, core.StanfordPediatricRadiologyDepartment, core.StanfordPediatricRheumatologyDepartment, core.StanfordPediatricStemCellTransplantatiDepartment, core.StanfordPediatricSurgeryDepartment, core.StanfordPediatricTransplantSurgeryDepartment, core.StanfordPediatrics.DepartmentofCardiothoracicSurgeryDepartment, core.StanfordPediatricsDepartmentofPathologyDepartment, core.StanfordPediatricsResearchandStatisticalUniDepartment, core.StanfordPediatricsandAnesthesiDepartment, core.StanfordPediatricsandBiDepartment, core.StanfordPediatricsandBioengineeringandInstituteforComputationalandMathematicalEngineeringDepartment, core.StanfordPediatricsandCardiovascularInstituDepartment, core.StanfordPediatricsandCardiovascularSurgeryDepartment, core.StanfordPediatricsandCenterforDigestiveDiseasDepartment, core.StanfordPediatricsandCenterforEducationinFamilyandCommunityDepartment, core.StanfordPediatricsandCenterforHealthPolicyDepartment, core.StanfordPediatricsandCenterforResearchinDiseasePreventiDepartment, core.StanfordPediatricsandGeneticsDepartment, core.StanfordPediatricsandMediciDepartment, core.StanfordPediatricsandMicrobiologyandImmunologyDepartment, core.StanfordPediatricsandPathologyDepartment, core.StanfordPediatricsandPrograminImmunologyDepartment, core.StanfordPediatricsandStanfordHealthPolicyDepartment, core.StanfordPediatricsandStanfordPreventionResearchCDepartment, core.StanfordPediatricsandStanfordResearchPreventionCDepartment, core.StanfordPediatricsandSurgeryDepartment, core.StanfordPathologyandMediciDepartment, core.StanfordPathologyandMedicineandObstetricsandAnesthesiologyDepartment, core.StanfordPathologyandPediatricsDepartment, core.StanfordPathologyandStanfordCancerInstituDepartment, core.StanfordPathologyandUrologyDepartment, core.StanfordPathologyparallelBiochemistryDepartment, core.StanfordPediatricAllergyandImmunologyDepartment, core.StanfordPediatricAnesthesiDepartment, core.StanfordPediatricCardiacSurgeryDepartment, core.StanfordPediatricCardiologyDepartment, core.StanfordPediatricCriticalCDepartment, core.StanfordPediatricDepartment, core.StanfordPediatricDermatologyDepartment, core.StanfordPediatricEmergencyMediciDepartment, core.StanfordPediatricEndocrinologyDepartment, core.StanfordPediatricEndocrinologyandDiabetesDepartment, core.StanfordPediatricEndocrinologyandMetabolisDepartment, core.StanfordPediatricGastroenterologyDepartment, core.StanfordPediatricHematologyOncologyDepartment, core.StanfordPediatricImmunologyandAllergyDepartment, core.StanfordPediatricInfectiousDiseasesDepartment, core.StanfordPediatricNephrologyDepartment, core.StanfordPediatricNeurosurgeryStanfordUniversitySchoolofMediciDepartment, core.StanfordPediatricOncologyDepartment, core.StanfordPediatricPulmonaryMediciDepartment, core.StanfordPediatricPulmonologyDepartment, core.StanfordPediatricsandofMicrobiologyandImmunologyDepartment, core.StanfordPediatricsandtheCenterforHealthPolicyDepartment, core.StanfordPediatricsandtheCenterforHealthPolicyandPrimaryCareandOutcomesResearchDepartment, core.StanfordPediatricsandtheCentersforHealthPolicyandPrimaryCareandOutcomesResearchDepartment, core.StanfordPediatricsandtheCentersforPrimaryCareandOutcomesResearchandHealthPolicyDepartment, core.StanfordPediatricsandtheHowardHughesMedicalInstituDepartment, core.StanfordPediatricsandtheImmunologyProgDepartment, core.StanfordPediatricsandtheStanfordCenterforResearchinDiseasePreventiDepartment, core.StanfordPediatricsatStanfordUniversityDepartment, core.StanfordPetroleumEngineeringDepartment, core.StanfordPsychologyandNeuroscienceProgDepartment, core.StanfordPsychologyandNeurosciencesInstituDepartment, core.StanfordPsychologyandNeurosciencesProgDepartment, core.StanfordPsychologyandStanfordCenterforCognitiveandNeurobiologicalImagingDepartment, core.StanfordPsychologyandStanfordCenterforReproducibleNeurosciencDepartment, core.StanfordPublicPolicyDepartment, core.StanfordPulmonaryPhysiologyDepartment, core.StanfordPulmonaryandCriticalCDepartment, core.StanfordRadiationOncologyA089Department, core.StanfordRadiationOncologyandMolecularImagingProgDepartment, core.StanfordRadiationandOncologyDepartment, core.StanfordRadiologyEducatiDepartment, core.StanfordRadiologyHDepartment, core.StanfordRadiologyStanfordUniversityDepartment, core.StanfordRadiologyandBiDepartment, core.StanfordRadiologyandBiomedicalDataSciencDepartment, core.StanfordRadiologyandMediciDepartment, core.StanfordRadiologyandMolecularImagingProgDepartment, core.StanfordRadiologyandMolecularImagingProgramatStanfordDepartment, core.StanfordRadiologyandNeurosurgeryDepartment, core.StanfordRadiologyandNuclearMediciDepartment, core.StanfordRadiologyandStanfordUniversitySchoolofMediciDepartment, core.StanfordRadiologyandtheBiDepartment, core.StanfordRadiologyandtheCenterforBiomedicalInformaticsResearchDepartment, core.StanfordRadiologyandtheMolecularImagingProgramatStanfordDepartment, core.StanfordReproductiveEndocrinologyandInfertilityDepartment, core.StanfordPharmacologyDepartment, core.StanfordPhilosophyDepartment, core.StanfordPhilosophyandSymbolicSystemsProgDepartment, core.StanfordPhysicalMedicineandRehabilitatiDepartment, core.StanfordPhysicsDepartment, core.StanfordPhysicsandAppliedPhysicsDepartment, core.StanfordPhysicsandGraduateSchoolofEducatiDepartment, core.StanfordPhysiologyDepartment, core.StanfordPlasticSurgeryDepartment, core.StanfordPlasticandReconstructiveSurgeryDepartment, core.StanfordPoliticalSciencDepartment, core.StanfordPoliticalScienceandGraduateSchoolofBusinessDepartment, core.StanfordPoliticalScienceandShorensteinAsiDepartment, core.StanfordPsychiatryandBehaviorSciencDepartment, core.StanfordPsychiatryandBehaviorSciencesandBipolarDisordersClinicDepartment, core.StanfordPsychiatryandBehaviorSciencesandtheBipolarDisordersClinicDepartment, core.StanfordPsychiatryandBehavioralScienceandStanfordUniversitySleepDisordersandResearchCDepartment, core.StanfordPsychiatryandBehavioralSciencesStanfordUniversityDepartment, core.StanfordPsychiatryandBehavioralSciencesandNeuroscienceProgDepartment, core.StanfordPsychiatryandBehavioralSciencesandtheBipolarDisordersProgDepartment, core.StanfordPsychiatryandBehavioralSciencesatStanfordUniversitySchoolofMediciDepartment, core.StanfordPsychiatryandBehaviouralSciencDepartment, core.StanfordPsychiatryandBehavoiralSciencesDepartment, core.StanfordPsychiatryandBiobehavioralSciencesDepartment, core.StanfordPsychiatryandDevelopmentalSciencesandMSLSDepartment, core.StanfordPsychologyandBehavioralSciencesDepartment, core.StanfordRheumatologyDepartment, core.StanfordSportsMediciDepartment, core.StanfordStatisticsandBiostatisticsDepartment, core.StanfordStatisticsandCancerCDepartment, core.StanfordStatisticsandSchoolofEducatiDepartment, core.StanfordStatisticsandStanfordLinearAcceleratorCDepartment, core.StanfordSurgeryStanfordCancerInstituDepartment, core.StanfordSurgeryStanfordUniversityDepartment, core.StanfordSurgeryStanfordUniversitySchoolofMediciDepartment, core.StanfordSurgeryandAsianLiverCDepartment, core.StanfordlogyandPediatricsDepartment, core.StanfordlogyandPrograminEpithelialBiologyDepartment, core.StanfordsychiatryDepartment, core.StanfordvelopmentalBiologyandGeneticsDepartment, core.StanfordvelopmentalBiologyandHowardHughesMedicalInstituDepartment, core.StanfordSurgeryandEmergencyMediciDepartment, core.StanfordSurgeryandPediatricsDepartment, core.StanfordSurgicalPathologyDepartment, core.StanfordTherapeuticRadiologyDepartment, core.StanfordTransplantSurgeryDepartment, core.StanfordTraumaandCriticalCareSurgeryDepartment, core.StanfordUrologyDepartment, core.StanfordUrologySDepartment, core.StanfordUrologyandBiDepartment, core.StanfordUrologyandDermatologyDepartment, core.StanfordUrologyandObstetricsandGynecologyDepartment, core.StanfordUrologyandPathologyDepartment, core.StanfordUrologyandStanfordCancerInstituDepartment, core.StanfordUrologyandStanfordInstituteforStemCellBiologyandRegenerativeMediciDepartment, core.StanfordVascularSurgeryDepartment, core.StanfordVascularandInterventionalRadiologyDepartment, core.StanfordVeteransAffairsCooperativeStudiesProgramPaloAltoCoordinatingCDepartment, core.StanfordVeteransAffairsDepartment, core.StanfordVeteransAffairsMedicalCDepartment, core.StanfordgeologicalandEnvironmentalSciencesDepartment, core.StanfordhologyDepartment, core.StanfordiagnosticRadiologyDepartment, core.StanfordiagnosticRadiologyandNuclearMediciDepartment, core.StanfordlogyPediatricsDepartment, core.StanfordlogyandCutaneousOncologyDepartment, core.StanfordlogyandPathologyDepartment, main-ResearchMentorOntology.StanfordImmunologyDepartment, main-ResearchMentorOntology.StanfordStemCellBiologyandRegenerativeMedicineDepartment, main-ResearchMentorOntology.StanfordChemicalandSystemsBiologyDepartment, core.StanfordElectricalEngineeringDepartment, main-ResearchMentorOntology.StanfordBiophysicsDepartment, main-ResearchMentorOntology.StanfordStructuralBiologyDepartment, core.StanfordMediciDepartment, main-ResearchMentorOntology.StanfordMicrobiologyandImmunologyDepartment, main-ResearchMentorOntology.StanfordBiochemistryDepartment, main-ResearchMentorOntology.StanfordGeneticsDepartment, main-ResearchMentorOntology.StanfordNeurosciencesDepartment, main-ResearchMentorOntology.StanfordCancerBiologyDepartment, core.StanfordPsychiatryandBehavioralSciencesDepartment, main-ResearchMentorOntology.StanfordBiologyDepartment, core.StanfordPediatricsDepartment, main-ResearchMentorOntology.StanfordBiomedicalInformaticsDepartment, core.StanfordPsychiatryandBehavioralSciencDepartment, core.StanfordPsychiatryandBehaviouralSciencesDepartment, core.StanfordlogyDepartment, main-ResearchMentorOntology.StanfordMolecularandCellularPhysiologyDepartment, core.StanfordPathologyDepartment, main-ResearchMentorOntology.StanfordDevelopmentalBiologyDepartment, core.StanfordComputerSciencDepartment, core.StanfordChemistryDepartment, core.StanfordMechanicalEngineeringDepartment, core.StanfordSurgeryDepartment, core.StanfordPsychologyDepartment, core.StanfordBiomedicalDataSciencDepartment, core.StanfordHealthResearchandPolicyDepartment, core.StanfordHealthandResearchPolicyDepartment, core.StanfordStatisticsDepartment, core.StanfordChemicalEngineeringDepartment, core.StanfordRadiologyDepartment, core.StanfordRadiationOncologyDepartment, core.StanfordBiologicalSciencesDepartment, core.StanfordOphthalmologyDepartment, core.StanfordPediatricsandtheStanfordPrograminImmunologyDepartment, core.StanfordPsychiatryDepartment, core.StanfordPsychiatryandBehavioralMediciDepartment, core.StanfordCardiovascularMediciDepartment, core.StanfordChemical EngineeringDepartment, core.StanfordOtolaryngology–HeadandNeckSurgeryDepartment, main-ResearchMentorOntology.StanfordComputerScienceDepartment]\n"
     ]
    }
   ],
   "source": [
    "onto = get_ontology('main-ResearchMentorOntology.owl')\n",
    "vivoNS = onto.get_namespace(\"http://vivoweb.org/ontology/core\")\n",
    "meshNS = onto.get_namespace(\"http://phenomebrowser.net/ontologies/mesh/mesh.owl#\")\n",
    "onto.load()\n",
    "\n",
    "res = onto.search(type=vivoNS.Department)\n",
    "print(res)"
   ]
  },
  {
   "cell_type": "code",
   "execution_count": 5,
   "metadata": {},
   "outputs": [
    {
     "ename": "TclError",
     "evalue": "can't invoke \"destroy\" command: application has been destroyed",
     "output_type": "error",
     "traceback": [
      "\u001b[0;31m---------------------------------------------------------------------------\u001b[0m",
      "\u001b[0;31mTclError\u001b[0m                                  Traceback (most recent call last)",
      "\u001b[0;32m<ipython-input-5-1c113bbd2efb>\u001b[0m in \u001b[0;36m<module>\u001b[0;34m\u001b[0m\n\u001b[1;32m     47\u001b[0m \u001b[0mapp\u001b[0m \u001b[0;34m=\u001b[0m \u001b[0mResearchMentorApp\u001b[0m\u001b[0;34m(\u001b[0m\u001b[0mroot\u001b[0m\u001b[0;34m)\u001b[0m\u001b[0;34m\u001b[0m\u001b[0;34m\u001b[0m\u001b[0m\n\u001b[1;32m     48\u001b[0m \u001b[0mroot\u001b[0m\u001b[0;34m.\u001b[0m\u001b[0mmainloop\u001b[0m\u001b[0;34m(\u001b[0m\u001b[0;34m)\u001b[0m\u001b[0;34m\u001b[0m\u001b[0;34m\u001b[0m\u001b[0m\n\u001b[0;32m---> 49\u001b[0;31m \u001b[0mroot\u001b[0m\u001b[0;34m.\u001b[0m\u001b[0mdestroy\u001b[0m\u001b[0;34m(\u001b[0m\u001b[0;34m)\u001b[0m\u001b[0;34m\u001b[0m\u001b[0;34m\u001b[0m\u001b[0m\n\u001b[0m",
      "\u001b[0;32m/anaconda3/lib/python3.7/tkinter/__init__.py\u001b[0m in \u001b[0;36mdestroy\u001b[0;34m(self)\u001b[0m\n\u001b[1;32m   2060\u001b[0m         end the application of this Tcl interpreter.\"\"\"\n\u001b[1;32m   2061\u001b[0m         \u001b[0;32mfor\u001b[0m \u001b[0mc\u001b[0m \u001b[0;32min\u001b[0m \u001b[0mlist\u001b[0m\u001b[0;34m(\u001b[0m\u001b[0mself\u001b[0m\u001b[0;34m.\u001b[0m\u001b[0mchildren\u001b[0m\u001b[0;34m.\u001b[0m\u001b[0mvalues\u001b[0m\u001b[0;34m(\u001b[0m\u001b[0;34m)\u001b[0m\u001b[0;34m)\u001b[0m\u001b[0;34m:\u001b[0m \u001b[0mc\u001b[0m\u001b[0;34m.\u001b[0m\u001b[0mdestroy\u001b[0m\u001b[0;34m(\u001b[0m\u001b[0;34m)\u001b[0m\u001b[0;34m\u001b[0m\u001b[0;34m\u001b[0m\u001b[0m\n\u001b[0;32m-> 2062\u001b[0;31m         \u001b[0mself\u001b[0m\u001b[0;34m.\u001b[0m\u001b[0mtk\u001b[0m\u001b[0;34m.\u001b[0m\u001b[0mcall\u001b[0m\u001b[0;34m(\u001b[0m\u001b[0;34m'destroy'\u001b[0m\u001b[0;34m,\u001b[0m \u001b[0mself\u001b[0m\u001b[0;34m.\u001b[0m\u001b[0m_w\u001b[0m\u001b[0;34m)\u001b[0m\u001b[0;34m\u001b[0m\u001b[0;34m\u001b[0m\u001b[0m\n\u001b[0m\u001b[1;32m   2063\u001b[0m         \u001b[0mMisc\u001b[0m\u001b[0;34m.\u001b[0m\u001b[0mdestroy\u001b[0m\u001b[0;34m(\u001b[0m\u001b[0mself\u001b[0m\u001b[0;34m)\u001b[0m\u001b[0;34m\u001b[0m\u001b[0;34m\u001b[0m\u001b[0m\n\u001b[1;32m   2064\u001b[0m         \u001b[0;32mglobal\u001b[0m \u001b[0m_default_root\u001b[0m\u001b[0;34m\u001b[0m\u001b[0;34m\u001b[0m\u001b[0m\n",
      "\u001b[0;31mTclError\u001b[0m: can't invoke \"destroy\" command: application has been destroyed"
     ]
    }
   ],
   "source": [
    "class ResearchMentorApp:\n",
    "    def __init__(self, master):\n",
    "        # preload ontology individuals\n",
    "        self.onto, self.vivoNS = self.load_ontology()\n",
    "        self.faculty_members, self.undergraduate_students, self.doctoral_students, self.organizations, self.documents, self.mesh_terms = []\n",
    "        self.load_individuals()\n",
    "        \n",
    "        frame = Frame(master)\n",
    "        frame.pack()\n",
    "        \n",
    "        # Quit and enter buttons\n",
    "        self.button = Button(frame, text=\"QUIT\", fg=\"red\", command=frame.quit)\n",
    "        self.button.pack(side=RIGHT)\n",
    "        \n",
    "        self.button = Button(frame, text=\"ENTER\", fg=\"red\", command=self.search)\n",
    "        self.button.pack(side=RIGHT)\n",
    "        \n",
    "        # search boxes\n",
    "        SEARCH_BY_OPTIONS = [\"Affliation\",\"MESH\"]\n",
    "        self.search_by_var = StringVar(master)\n",
    "        self.search_by_var.set(SEARCH_BY_OPTIONS[0])\n",
    "        self.search_by_option = OptionMenu(master, self.search_by_var,*SEARCH_BY_OPTIONS)\n",
    "        self.search_by_option.pack()\n",
    "        \n",
    "        depart_indivs = self.get_departments(onto,vivoNS)\n",
    "        DEPART_OPTIONS = [indiv.name for indiv in depart_indivs]\n",
    "        self.depart_var = StringVar(master)\n",
    "        self.depart_var.set(DEPART_OPTIONS[0])\n",
    "        self.depart_option = OptionMenu(master, self.depart_var, *DEPART_OPTIONS)\n",
    "        self.depart_option.pack()\n",
    "    \n",
    "    def load_individuals(self):\n",
    "        self.faculty_members = onto.search(type=self.vivoNS.FacultyMember)\n",
    "        self.undergraduate_students = onto.search(type=self.onto.UndergraduateStudent)\n",
    "        self.doctoral_students = onto.search(type=self.onto.DoctoralStudent)\n",
    "        self.organizations.extend(onto.search(type=))\n",
    "        \n",
    "        \n",
    "    def load_graph():\n",
    "        g = rdflib.Graph()\n",
    "        g.parse(\"main-ResearchMentorOntology.owl\")\n",
    "        return g\n",
    "\n",
    "    def load_ontology(self):\n",
    "        onto = get_ontology('main-ResearchMentorOntology.owl')\n",
    "        vivoNS = onto.get_namespace(\"http://vivoweb.org/ontology/core\")\n",
    "        meshNS = onto.get_namespace(\"http://phenomebrowser.net/ontologies/mesh/mesh.owl#\")\n",
    "        onto.load()\n",
    "        return onto, vivoNS\n",
    "    \n",
    "    def get_departments(self, onto, vivoNS):\n",
    "        res = onto.search(type=vivoNS.Division)\n",
    "        return res\n",
    "\n",
    "root = Tk()\n",
    "app = ResearchMentorApp(root)\n",
    "root.mainloop()\n",
    "root.destroy()"
   ]
  },
  {
   "cell_type": "code",
   "execution_count": 5,
   "metadata": {},
   "outputs": [
    {
     "name": "stdout",
     "output_type": "stream",
     "text": [
      "hi there, everyone!\n"
     ]
    }
   ],
   "source": [
    "class App:\n",
    "    def __init__(self, master):\n",
    "        frame = Frame(master)\n",
    "        frame.pack()\n",
    "        \n",
    "        self.button = Button(frame, text=\"QUIT\", fg=\"red\", command=frame.quit)\n",
    "        self.button.pack(side=LEFT)\n",
    "        self.hi_there = Button(frame, text=\"Hellow\", command=self.say_hi)\n",
    "        self.hi_there.pack(side=LEFT)\n",
    "    def say_hi(self):\n",
    "        print(\"hi there, everyone!\")\n",
    "\n",
    "root = Tk()\n",
    "app = App(root)\n",
    "root.mainloop()\n",
    "root.destroy()"
   ]
  },
  {
   "cell_type": "code",
   "execution_count": 3,
   "metadata": {},
   "outputs": [],
   "source": [
    "# hello world app\n",
    "# root = Tk()\n",
    "# w = Label(root, text=\"Hello, world!\")\n",
    "# w.pack()\n",
    "# root.mainloop()"
   ]
  }
 ],
 "metadata": {
  "kernelspec": {
   "display_name": "Python 3",
   "language": "python",
   "name": "python3"
  },
  "language_info": {
   "codemirror_mode": {
    "name": "ipython",
    "version": 3
   },
   "file_extension": ".py",
   "mimetype": "text/x-python",
   "name": "python",
   "nbconvert_exporter": "python",
   "pygments_lexer": "ipython3",
   "version": "3.7.1"
  }
 },
 "nbformat": 4,
 "nbformat_minor": 2
}
