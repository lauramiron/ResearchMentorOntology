{
 "cells": [
  {
   "cell_type": "code",
   "execution_count": 1,
   "metadata": {},
   "outputs": [],
   "source": [
    "from tkinter import *\n",
    "from owlready2 import *\n",
    "import pandas as pd\n",
    "import datetime, math\n",
    "import rdflib"
   ]
  },
  {
   "cell_type": "code",
   "execution_count": 2,
   "metadata": {},
   "outputs": [
    {
     "name": "stdout",
     "output_type": "stream",
     "text": [
      "[core.StanfordGeneticsandBiologyDepartment, core.StanfordGeneticsandBiomedicalInformaticsTrainingProgDepartment, core.StanfordGeneticsandMicrobiologyDepartment, core.StanfordGeneticsandPediatricsDepartment, core.StanfordGeneticsandPrograminBiomedicalInformaticsDepartment, core.StanfordGeologicalSciencesDepartment, core.StanfordGeologicalSciencesandCenterforInternationalSecurityandCooperatiDepartment, core.StanfordGeologicalandEnvironmentalSciencDepartment, core.StanfordGeologicalandEnvironmentalSciencesDepartment, core.StanfordGeologyDepartment, core.StanfordInternalMediciDepartment, core.StanfordInterventionalRadiologyDepartment, core.StanfordLinguisticsDepartment, core.StanfordManagementScienceandEngineeringDepartment, core.StanfordManagementScienceandEngineeringatStanfordUniversityDepartment, core.StanfordMaterialScienceandEngineeringDepartment, core.StanfordHealthMediciDepartment, core.StanfordHealthPolicyandResearchDepartment, core.StanfordHealthResearchDepartment, core.StanfordHealthResearchPolicyDepartment, core.StanfordHealthResearchandPolicyandMediciDepartment, core.StanfordHealthResearchandPolicyandStanfordPreventionResearchCDepartment, core.StanfordGeneralPediatricsDepartment, core.StanfordGeneralSurgeryDepartment, core.StanfordGeneticsand.DepartmentofBiochemistryDepartment, core.StanfordGeneticsandBiochemistryDepartment, core.StanfordHematologyandOncologyDepartment, core.StanfordHistoryDepartment, core.StanfordHospiceandPalliativeMediciDepartment, core.StanfordHumanBiologyDepartment, core.StanfordImmunologyandMicrobiologyDepartment, core.StanfordImmunologyandRheumatologyDepartment, core.StanfordIndustrialEngineeringDepartment, core.StanfordIndustrialEngineeringandEngineeringManagDepartment, core.StanfordInfectiousDiseasesDepartment, core.StanfordInfectiousDiseasesandGeographicMediciDepartment, core.StanfordMedicineandRadiologyDepartment, core.StanfordMedicineandSurgeryDepartment, core.StanfordMedicineandtheDigestiveDiseaseCDepartment, core.StanfordMedicineandtheStanfordPreventionResearchCDepartment, core.StanfordMicrobiologyDepartment, core.StanfordMicrobiologyandImmunologyandtheHowardHughesMedicalInstituDepartment, core.StanfordMolecularPharmacologyDepartment, core.StanfordMolecularPhysiologyDepartment, core.StanfordMolecularandCellularPhysiologyand2DepartmentofChemicalEngineeringDepartment, core.StanfordMolecularandCellularPhysiologyandHowardHughesMedicalInstituDepartment, core.StanfordNeurosurgeryandInstituteforStemCellBiologyandRegenerativeMediciDepartment, core.StanfordNeurosurgeryandStanfordStrokeCDepartment, core.StanfordHealthResearchandPolicyandofMediciDepartment, core.StanfordHealthResearchandPolicyandtheDepartmentofMediciDepartment, core.StanfordHealthServicesResearchandPolicyDepartment, core.StanfordHematologyDepartment, core.StanfordObandGyDepartment, core.StanfordObstetricsDepartment, core.StanfordObstetricsandGynaecologyDepartment, core.StanfordObstetricsandGynecolgyDepartment, core.StanfordObstetricsandGynecologyDepartment, core.StanfordOncologyDepartment, core.StanfordOphthalmologyandByersEyeInstituDepartment, core.StanfordOphthlmologyDepartment, core.StanfordOpthalmologyDepartment, core.StanfordOralMedicineandMaxillofacialSurgeryDepartment, core.StanfordGeophysicsDepartment, core.StanfordGeophysicsandInstituteforComputationalandMathematicalEngineeringDepartment, core.StanfordGlobalEcologyDepartment, core.StanfordGynandObDepartment, core.StanfordGynecologyandObstetricsDepartment, core.StanfordHeadandNeckSurgeryDepartment, core.StanfordFamilyMediciDepartment, core.StanfordFunctionalRestoratiDepartment, core.StanfordGastroenterologyDepartment, core.StanfordGastroenterologyandHepatologyDepartment, core.StanfordGeneralInternalMediciDepartment, core.StanfordGeneralMedicalDisciplinesDepartment, core.StanfordNeurosurgeryandtheStanfordStrokeCDepartment, core.StanfordNutritionandFoodServicesDepartment, core.StanfordOBandGYNDepartment, core.StanfordNeuroimagingandNeurointerventiDepartment, core.StanfordNeurologicalSurgeryDepartment, core.StanfordNeurologyandNeurologicSciencesDepartment, core.StanfordNeurologyandNeurologicalSciencDepartment, core.StanfordNeurologyandNeurologicalSciencesStanfordUniversityDepartment, core.StanfordNeurologyandNeurologicalSciencesStanfordUniversityMedicalCDepartment, core.StanfordNeurologyandNeurologicalSciencesandCenterforSleepSciencesandMediciDepartment, core.StanfordMedicineandNephrologyDepartment, core.StanfordMedicineandOncologyDepartment, core.StanfordMedicineandPediatricsDepartment, core.StanfordNeurologyandNeurologicalSciencesandtheStanfordComprehensiveEpilepsyCDepartment, core.StanfordNeurologyandNeurologicalSciencesandtheStanfordStrokeCDepartment, core.StanfordNeurologyandNeurosciencDepartment, core.StanfordNeurologyandNeurosciencesDepartment, core.StanfordNeurologyandNeurosciencesandCenterforSleepSciencesandMediciDepartment, core.StanfordNeurologyandPediatricsDepartment, core.StanfordNeurologyandtheStanfordStrokeCDepartment, core.StanfordNeuroradiologyDepartment, core.StanfordNeurosciencDepartment, core.StanfordNeurosurgeryStanfordUniversityDepartment, core.StanfordPathologyandDermatologyDepartment, core.StanfordPathologyandInternalMediciDepartment, core.StanfordPathologyandMediciDepartment, core.StanfordPathologyandMedicineandObstetricsandAnesthesiologyDepartment, core.StanfordPathologyandPediatricsDepartment, core.StanfordPathologyandStanfordCancerInstituDepartment, core.StanfordPathologyandUrologyDepartment, core.StanfordPathologyparallelBiochemistryDepartment, core.StanfordPediatricAllergyandImmunologyDepartment, core.StanfordPediatricAnesthesiDepartment, core.StanfordPediatricsandAnesthesiDepartment, core.StanfordPediatricsandBiDepartment, core.StanfordPediatricsandBioengineeringandInstituteforComputationalandMathematicalEngineeringDepartment, core.StanfordNeurologyandNeurologicalSciencesandCentreforSleepSciencesandMediciDepartment, core.StanfordNeurologyandNeurologicalSciencesandNeurobiologyDepartment, core.StanfordNeurologyandNeurologicalSciencesandStanfordStrokeCDepartment, core.StanfordPediatricsandCenterforDigestiveDiseasDepartment, core.StanfordPediatricsandCenterforEducationinFamilyandCommunityDepartment, core.StanfordPediatricsandCenterforHealthPolicyDepartment, core.StanfordPediatricsandCenterforResearchinDiseasePreventiDepartment, core.StanfordPediatricsandGeneticsDepartment, core.StanfordPediatricsandMediciDepartment, core.StanfordPediatricsandMicrobiologyandImmunologyDepartment, core.StanfordPediatricsandPathologyDepartment, core.StanfordPediatricsandPrograminImmunologyDepartment, core.StanfordPediatricsandStanfordHealthPolicyDepartment, core.StanfordPathologyStanfordUniversityDepartment, core.StanfordNeonatalandDevelopmentalMediciDepartment, core.StanfordNeonatologyDepartment, core.StanfordNephrologyDepartment, core.StanfordNeurobiologyandHowardHughesMedicalInstituDepartment, core.StanfordNeurobiologyandPrograminNeurosciencesDepartment, core.StanfordMedicineandDermatologyDepartment, core.StanfordMedicineandGastroenterologyDepartment, core.StanfordMedicineandGeneticsDepartment, core.StanfordMedicineandHealthDepartment, core.StanfordMedicineandHealthResearchandPolicyDepartment, core.StanfordMedicineandImmunologyandRheumatologyDepartment, core.StanfordMedicineandMicrobiologyandImmunologyDepartment, core.StanfordBiologyandHowardHughesMedicalInstituDepartment, core.StanfordNeurologicalSciencesandInterdepartmentalPrograminImmunologyDepartment, core.StanfordPediatricsandCardiovascularInstituDepartment, core.StanfordPediatricsandCardiovascularSurgeryDepartment, core.StanfordPediatricEmergencyMediciDepartment, core.StanfordPediatricEndocrinologyDepartment, core.StanfordPediatricEndocrinologyandDiabetesDepartment, core.StanfordPediatricEndocrinologyandMetabolisDepartment, core.StanfordPediatricGastroenterologyDepartment, core.StanfordPediatricHematologyOncologyDepartment, core.StanfordPediatricImmunologyandAllergyDepartment, core.StanfordPediatricInfectiousDiseasesDepartment, core.StanfordPaediatricsDepartment, core.StanfordPathologyL235Department, core.StanfordPediatricOncologyDepartment, core.StanfordPediatricPulmonaryMediciDepartment, core.StanfordPediatricPulmonologyDepartment, core.StanfordPediatricRadiologyDepartment, core.StanfordPediatricRheumatologyDepartment, core.StanfordPediatricStemCellTransplantatiDepartment, core.StanfordPediatricSurgeryDepartment, core.StanfordPediatricTransplantSurgeryDepartment, core.StanfordPediatrics.DepartmentofCardiothoracicSurgeryDepartment, core.StanfordPediatricsDepartmentofPathologyDepartment, core.StanfordPediatricsResearchandStatisticalUniDepartment, core.StanfordPediatricsatStanfordUniversityDepartment, core.StanfordPetroleumEngineeringDepartment, core.StanfordPharmacologyDepartment, core.StanfordPhilosophyDepartment, core.StanfordPhilosophyandSymbolicSystemsProgDepartment, core.StanfordPhysicalMedicineandRehabilitatiDepartment, core.StanfordPhysicsDepartment, core.StanfordPhysicsandAppliedPhysicsDepartment, core.StanfordPhysicsandGraduateSchoolofEducatiDepartment, core.StanfordPhysiologyDepartment, core.StanfordRadiationOncologyA089Department, core.StanfordRadiationOncologyandMolecularImagingProgDepartment, core.StanfordRadiationandOncologyDepartment, core.StanfordPediatricNephrologyDepartment, core.StanfordPediatricNeurosurgeryStanfordUniversitySchoolofMediciDepartment, core.StanfordRadiologyStanfordUniversityDepartment, core.StanfordRadiologyandBiDepartment, core.StanfordRadiologyandBiomedicalDataSciencDepartment, core.StanfordRadiologyandMediciDepartment, core.StanfordRadiologyandMolecularImagingProgDepartment, core.StanfordRadiologyandMolecularImagingProgramatStanfordDepartment, core.StanfordRadiologyandNeurosurgeryDepartment, core.StanfordRadiologyandNuclearMediciDepartment, core.StanfordRadiologyandStanfordUniversitySchoolofMediciDepartment, core.StanfordRadiologyandtheBiDepartment, core.StanfordPediatricsandtheStanfordCenterforResearchinDiseasePreventiDepartment, core.StanfordPediatricCardiacSurgeryDepartment, core.StanfordPediatricCardiologyDepartment, core.StanfordPediatricCriticalCDepartment, core.StanfordPediatricDepartment, core.StanfordPediatricDermatologyDepartment, core.StanfordOrthopaedicSurgeryandBioengineeringDepartment, core.StanfordOrthopaedicsDepartment, core.StanfordOrthopaedicsandNeurosurgeryDepartment, core.StanfordOrthopedicSurgeryandSportsMediciDepartment, core.StanfordOrthopedicsDepartment, core.StanfordOtolaryngologyHeadandNeckSurgeryDepartment, core.StanfordOtolaryngologyandHeadandNeckSurgeryDepartment, core.StanfordOtolaryngologyandHeadandNeckSurgeryandPediatricsDepartment, core.StanfordRadiologyEducatiDepartment, core.StanfordRadiologyHDepartment, core.StanfordPsychiatryandBehaviorSciencDepartment, core.StanfordPsychiatryandBehaviorSciencesandBipolarDisordersClinicDepartment, core.StanfordPsychiatryandBehaviorSciencesandtheBipolarDisordersClinicDepartment, core.StanfordPsychiatryandBehavioralScienceandStanfordUniversitySleepDisordersandResearchCDepartment, core.StanfordPsychiatryandBehavioralSciencesStanfordUniversityDepartment, core.StanfordPsychiatryandBehavioralSciencesandNeuroscienceProgDepartment, core.StanfordPsychiatryandBehavioralSciencesandtheBipolarDisordersProgDepartment, core.StanfordPsychiatryandBehavioralSciencesatStanfordUniversitySchoolofMediciDepartment, core.StanfordPediatricsandtheHowardHughesMedicalInstituDepartment, core.StanfordPediatricsandtheImmunologyProgDepartment, core.StanfordPsychiatryandBiobehavioralSciencesDepartment, core.StanfordPsychiatryandDevelopmentalSciencesandMSLSDepartment, core.StanfordPsychologyandBehavioralSciencesDepartment, core.StanfordPsychologyandNeuroscienceProgDepartment, core.StanfordPsychologyandNeurosciencesInstituDepartment, core.StanfordPsychologyandNeurosciencesProgDepartment, core.StanfordPsychologyandStanfordCenterforCognitiveandNeurobiologicalImagingDepartment, core.StanfordPsychologyandStanfordCenterforReproducibleNeurosciencDepartment, core.StanfordPublicPolicyDepartment, core.StanfordPulmonaryPhysiologyDepartment, core.StanfordPulmonaryandCriticalCDepartment, core.StanfordSurgeryandPediatricsDepartment, core.StanfordSurgicalPathologyDepartment, core.StanfordTherapeuticRadiologyDepartment, core.StanfordTransplantSurgeryDepartment, core.StanfordTraumaandCriticalCareSurgeryDepartment, core.StanfordUrologyDepartment, core.StanfordUrologySDepartment, core.StanfordUrologyandBiDepartment, core.StanfordUrologyandDermatologyDepartment, core.StanfordUrologyandObstetricsandGynecologyDepartment, core.StanfordUrologyandStanfordInstituteforStemCellBiologyandRegenerativeMediciDepartment, core.StanfordPsychiatryandBehaviouralSciencDepartment, core.StanfordPsychiatryandBehavoiralSciencesDepartment, core.StanfordSurgeryStanfordUniversityDepartment, core.StanfordSurgeryStanfordUniversitySchoolofMediciDepartment, core.StanfordSurgeryandAsianLiverCDepartment, core.StanfordSurgeryandEmergencyMediciDepartment, core.StanfordPlasticSurgeryDepartment, core.StanfordPlasticandReconstructiveSurgeryDepartment, core.StanfordPoliticalSciencDepartment, core.StanfordPoliticalScienceandGraduateSchoolofBusinessDepartment, core.StanfordPoliticalScienceandShorensteinAsiDepartment, core.StanfordPediatricsandStanfordPreventionResearchCDepartment, core.StanfordPediatricsandStanfordResearchPreventionCDepartment, core.StanfordPediatricsandSurgeryDepartment, core.StanfordPediatricsandofMicrobiologyandImmunologyDepartment, core.StanfordPediatricsandtheCenterforHealthPolicyDepartment, core.StanfordPediatricsandtheCenterforHealthPolicyandPrimaryCareandOutcomesResearchDepartment, core.StanfordPediatricsandtheCentersforHealthPolicyandPrimaryCareandOutcomesResearchDepartment, core.StanfordPediatricsandtheCentersforPrimaryCareandOutcomesResearchandHealthPolicyDepartment, core.StanfordVascularSurgeryDepartment, core.StanfordVascularandInterventionalRadiologyDepartment, core.StanfordVeteransAffairsCooperativeStudiesProgramPaloAltoCoordinatingCDepartment, core.StanfordVeteransAffairsDepartment, core.StanfordVeteransAffairsMedicalCDepartment, core.StanfordgeologicalandEnvironmentalSciencesDepartment, core.StanfordhologyDepartment, core.StanfordiagnosticRadiologyDepartment, core.StanfordiagnosticRadiologyandNuclearMediciDepartment, core.StanfordlogyPediatricsDepartment, core.StanfordlogyandCutaneousOncologyDepartment, core.StanfordlogyandPathologyDepartment, core.StanfordlogyandPediatricsDepartment, core.StanfordlogyandPrograminEpithelialBiologyDepartment, core.StanfordsychiatryDepartment, core.StanfordvelopmentalBiologyandGeneticsDepartment, core.StanfordvelopmentalBiologyandHowardHughesMedicalInstituDepartment, core.StanfordUrologyandPathologyDepartment, core.StanfordUrologyandStanfordCancerInstituDepartment, core.StanfordRadiologyandtheCenterforBiomedicalInformaticsResearchDepartment, core.StanfordRadiologyandtheMolecularImagingProgramatStanfordDepartment, core.StanfordReproductiveEndocrinologyandInfertilityDepartment, core.StanfordRheumatologyDepartment, core.StanfordSportsMediciDepartment, core.StanfordStatisticsandBiostatisticsDepartment, core.StanfordStatisticsandCancerCDepartment, core.StanfordStatisticsandSchoolofEducatiDepartment, core.StanfordStatisticsandStanfordLinearAcceleratorCDepartment, core.StanfordSurgeryStanfordCancerInstituDepartment, core.StanfordMedicineandBiochemistryDepartment, core.StanfordGeneticsandStanfordCenterforBiomedicalEthicsDepartment, core.StanfordBiologyandGeneticsDepartment, core.StanfordBioengineeringDepartment, core.StanfordBiologicalSciencesandJasperRidgeBiologicalPreservDepartment, core.StanfordBiologicalSciencesandPrograminNeurosciencDepartment, core.StanfordBiologyMC5020Department, core.StanfordBiologyandMolelcularandCellularPhysiologyDepartment, core.StanfordBiomedicalDataSciencesDepartment, core.StanfordvelopmentalBiologyDepartment, core.StanfordBiochemistryandDevelopmentalBiologyDepartment, core.StanfordBiochemistryandHowardHughesMedicalInstituDepartment, core.StanfordBiochemistryandStanfordGenomeTechnologyCDepartment, core.StanfordBioengineeringandChEMDepartment, core.StanfordBioengineeringandElectricalEngineeringDepartment, core.StanfordBiologicalSciencDepartment, core.StanfordBiologicalSciencesandBioXProgDepartment, core.StanfordBiologicalSciencesandInstituteforInternationalStudiesDepartment, core.StanfordAnesthesiaandCardiothoracicSurgeryDepartment, core.StanfordAnesthesiaandGynecologyandObstetricsDepartment, core.StanfordAnesthesiaandHealthResearchandPolicyDepartment, core.StanfordAnesthesiaandObstetricsandGynecologyDepartment, core.StanfordAnesthesiologyDepartment, core.StanfordAnesthesiologyandMediciDepartment, core.StanfordAnesthesiologyandPainManagDepartment, core.StanfordAnesthesiologyandPerioperativeCDepartment, core.StanfordAnesthesiologyandPerioperativeMediciDepartment, core.StanfordAnthropologicalSciencesDepartment, core.StanfordSociologyDepartment, core.StanfordBiologyandMorrisonInstituteforPopulationandResourceStudiesDepartment, core.StanfordBiologyandStanfordWoodsInstituDepartment, core.StanfordBiologyandWoodsInstitutefortheEnviDepartment, core.StanfordBiologyatStanfordUniversityDepartment, core.StanfordAeronauticsandAstronauticsDepartment, core.StanfordAerospaceandAstrophysicsDepartment, core.StanfordAnaesthesiDepartment, core.StanfordAnaesthesiologyDepartment, core.StanfordAnesthesiDepartment, core.StanfordCardiovascularandInterventionalRadiologyDepartment, core.StanfordCardiovascularandThoracicSurgeryDepartment, core.StanfordCardiovascularandThoracicSurgeryandtheDivisionofCardiovascularInterventionalRadiologyDepartment, core.StanfordAnesthesiaS278Department, core.StanfordAnthropology.StanfordUniversityDepartment, core.StanfordAnthropologyDepartment, core.StanfordAnthropologyandBiologyDepartment, core.StanfordAnthropologyandMorrisonInstituteforPopulationandResourceStudiesDepartment, core.StanfordAnthropologyandWoodsInstituteoftheEnviDepartment, core.StanfordAppliedPhysicsDepartment, core.StanfordAthleticsDepartment, core.StanfordAthleticsandPhysicalEducatiDepartment, core.StanfordBehavioralSciencesDepartment, core.StanfordBiDepartment, core.StanfordCardiothoracicSurgeryandMediciDepartment, core.StanfordCardiothoracicSurgeryandStanfordCardiovascularInstituDepartment, core.StanfordCardiothroacicSurgeryDepartment, core.StanfordCardiovascularSurgeryDepartment, core.StanfordCardiovascularSurgeryandtheDivisionofCardiovascularMediciDepartment, core.StanfordCardiovascularandThoracicSurgeryandtheDivisionofCardiovascularMediciDepartment, core.StanfordCellBiologyDepartment, core.StanfordClinicalInformaticsDepartment, core.StanfordClinicalNutritiDepartment, core.StanfordClinicalPathologyDepartment, core.StanfordCommunicatiDepartment, core.StanfordComparativeMediciDepartment, core.StanfordComputerScienceDepartmentofBiochemistryDepartment, core.StanfordCriticalCareMediciDepartment, core.StanfordCulturalandSocialAnthropologyDepartment, core.StanfordChemistryandBiophysicsProgDepartment, core.StanfordChemistryandLaboratoryforAdvancedMaterialsDepartment, core.StanfordChemistryandSchoolofMediciDepartment, core.StanfordChemistryandthePULSEInstituDepartment, core.StanfordChildNeurologyDepartment, core.StanfordChildNeurologyandMovementDisordersDepartment, core.StanfordChildPsychiatryandPediatricsDepartment, core.StanfordChildandAdolescentPsychiatryDepartment, core.StanfordChildandAdolescentPsychiatryatStanfordUniversityDepartment, core.StanfordBiomedicalDataSciencesandStatisticsDepartment, core.StanfordBiomedicalEngineeringDepartment, core.StanfordBiostatisticsDepartment, core.StanfordBiostatisticsinPsychiatryDepartment, core.StanfordBloodandMarrowTransplantatiDepartment, core.StanfordCHEMDepartment, core.StanfordCardiacSurgeryDepartment, core.StanfordCardiacTransplDepartment, core.StanfordCardiologyDepartment, core.StanfordCardiothoracicSurgeryDepartment, core.StanfordCivilEngineeringDepartment, core.StanfordCivilandEnvironmentEngineeringDepartment, core.StanfordCivilandEnvironmentalEngineeringDepartment, core.StanfordCivilandEnvironmentalEngineeringStanfordUniversityDepartment, core.StanfordCivilandEnvironmentalEngineeringandCodigaResourceRecoveryCDepartment, core.StanfordCivilandEnvironmentalEngineeringandReNUWItEngineeringResearchCDepartment, core.StanfordClassicsDepartment, core.StanfordClinicalDermatologyDepartment, core.StanfordEnergyResourcesEngineeringDepartment, core.StanfordEngineeringDepartment, core.StanfordEnvironmentalEarthSystemSciencDepartment, core.StanfordEnvironmentalEarthSystemScienceandCenteronFoodSecurityandtheEnviDepartment, core.StanfordEnvironmentalEarthSystemScienceandProgramonFoodSecurityandtheEnviDepartment, core.StanfordEnvironmentalEarthSystemScienceandWoodsInstitutefortheEnviDepartment, core.StanfordEnvironmentalEarthSystemsSciencDepartment, core.StanfordEnvironmentalHealthandSafetyDepartment, core.StanfordEnvironmentalandEarthSystemSciencDepartment, core.StanfordFacialPlasticandReconstructiveSurgeryDepartment, core.StanfordEmergencyMediciDepartment, core.StanfordEmergencyMedicineStanfordUniversitySchoolofMediciDepartment, core.StanfordEmergencyMedicineandTrauDepartment, core.StanfordEmergencyServicesDepartment, core.StanfordEmergencyandSurgeryDepartment, core.StanfordEndocrinologyDepartment, core.StanfordEarthSystemSciencDepartment, core.StanfordEarthSystemScienceCenteronFoodSecurityandtheEnviDepartment, core.StanfordEarthSystemScienceandCenteronFoodSecurityandtheEnviDepartment, core.StanfordMaterialsScienceandEngineeringDepartment, core.StanfordMathematicsDepartment, core.StanfordMechanicalEng.Department, core.StanfordMedicalEducatiDepartment, core.StanfordMedicalInformaticsDepartment, core.StanfordMedicalMicrobiologyDepartment, core.StanfordMedicalOncologyDepartment, core.StanfordMedicineOncologyDepartment, core.StanfordMedicineandCardiovascularInstituDepartment, core.StanfordMedicineandClinicalPharmacologyDepartment, core.StanfordEarthSystemScienceandWoodsInstitutefortheEnviDepartment, core.StanfordEarthSystemScienceandtheCenteronFoodSecurityandtheEnviDepartment, core.StanfordEarthSystemSciencesDepartment, core.StanfordEconomicsDepartment, core.StanfordEducatiDepartment, core.StanfordElectricEngineeringDepartment, core.StanfordElectricalEngineeringStanfordUniversityDepartment, core.StanfordElectricalEngineeringandNeurosciencesProgDepartment, core.StanfordElectricalEngineeringandRadiologyDepartment, core.StanfordElectricalEngineeringatStanfordUniversityDepartment, core.StanfordComputerSciencDepartment, core.StanfordChemical EngineeringDepartment, core.StanfordOtolaryngology–HeadandNeckSurgeryDepartment, core.StanfordNeurobiologyDepartment, core.StanfordlogyDepartment, main-ResearchMentorOntology.StanfordComputerScienceDepartment, core.StanfordNeurosurgeryandHansenExperimentalPhysicsLaboratoryDepartment, core.StanfordElectricalEngineeringDepartment, main-ResearchMentorOntology.StanfordBiophysicsDepartment, main-ResearchMentorOntology.StanfordStructuralBiologyDepartment, main-ResearchMentorOntology.StanfordImmunologyDepartment, core.StanfordMediciDepartment, main-ResearchMentorOntology.StanfordNeurosciencesDepartment, main-ResearchMentorOntology.StanfordGeneticsDepartment, main-ResearchMentorOntology.StanfordCancerBiologyDepartment, main-ResearchMentorOntology.StanfordStemCellBiologyandRegenerativeMedicineDepartment, main-ResearchMentorOntology.StanfordBiochemistryDepartment, main-ResearchMentorOntology.StanfordChemicalandSystemsBiologyDepartment, core.StanfordPsychiatryandBehavioralSciencesDepartment, core.StanfordPediatricsDepartment, main-ResearchMentorOntology.StanfordBiomedicalInformaticsDepartment, core.StanfordPsychiatryandBehavioralSciencDepartment, core.StanfordPsychiatryandBehaviouralSciencesDepartment, main-ResearchMentorOntology.StanfordMolecularandCellularPhysiologyDepartment, main-ResearchMentorOntology.StanfordDevelopmentalBiologyDepartment, core.StanfordChemistryDepartment, core.StanfordPathologyDepartment, core.StanfordSurgeryDepartment, main-ResearchMentorOntology.StanfordBiologyDepartment, main-ResearchMentorOntology.StanfordMicrobiologyandImmunologyDepartment, core.StanfordPsychologyDepartment, core.StanfordMechanicalEngineeringDepartment, core.StanfordBiomedicalDataSciencDepartment, core.StanfordHealthResearchandPolicyDepartment, core.StanfordHealthandResearchPolicyDepartment, core.StanfordStatisticsDepartment, core.StanfordRadiologyDepartment, core.StanfordChemicalEngineeringDepartment, core.StanfordPsychiatryandBehavioralMediciDepartment, core.StanfordCardiovascularMediciDepartment, core.StanfordOphthalmologyDepartment, core.StanfordBiologicalSciencesDepartment, core.StanfordRadiationOncologyDepartment, core.StanfordPediatricsandtheStanfordPrograminImmunologyDepartment, core.StanfordPsychiatryDepartment, core.StanfordNeurologyandNeurologicalSciencesDepartment, core.StanfordRadiationOncologyandCancerInstituDepartment, core.StanfordRadiationOncologyandStanfordCancerInstituDepartment, core.StanfordOrthopaedicSurgeryDepartment, core.StanfordOrthopedicSurgeryDepartment, core.StanfordNeurologyDepartment, core.StanfordNeurosurgeryDepartment, core.StanfordBioengineeringandStanfordMedicalSchoolDepartment, core.StanfordOtolaryngologyDepartment]\n"
     ]
    }
   ],
   "source": [
    "onto = get_ontology('main-ResearchMentorOntology.owl')\n",
    "vivoNS = onto.get_namespace(\"http://vivoweb.org/ontology/core\")\n",
    "meshNS = onto.get_namespace(\"http://phenomebrowser.net/ontologies/mesh/mesh.owl#\")\n",
    "onto.load()"
   ]
  },
  {
   "cell_type": "code",
   "execution_count": null,
   "metadata": {},
   "outputs": [],
   "source": [
    "class ResearchMentorApp:\n",
    "    def __init__(self, master):\n",
    "        # preload ontology individuals\n",
    "        self.onto, self.vivoNS = self.load_ontology()\n",
    "        self.load_individuals()\n",
    "        print(self.doctoral_students)\n",
    "        \n",
    "        frame = Frame(master)\n",
    "        frame.pack()\n",
    "        \n",
    "        # Quit and enter buttons\n",
    "        self.button = Button(frame, text=\"QUIT\", fg=\"red\", command=frame.quit)\n",
    "        self.button.pack(side=RIGHT)\n",
    "        \n",
    "        self.button = Button(frame, text=\"ENTER\", fg=\"red\", command=frame.quit)\n",
    "        self.button.pack(side=RIGHT)\n",
    "        \n",
    "        # search boxes\n",
    "        SEARCH_BY_OPTIONS = [\"Affliation\",\"MESH\"]\n",
    "        self.search_by_var = StringVar(master)\n",
    "        self.search_by_var.set(SEARCH_BY_OPTIONS[0])\n",
    "        self.search_by_option = OptionMenu(master, self.search_by_var,*SEARCH_BY_OPTIONS)\n",
    "        self.search_by_option.pack()\n",
    "        \n",
    "        depart_indivs = self.get_departments(onto,vivoNS)\n",
    "        DEPART_OPTIONS = [indiv.name for indiv in depart_indivs]\n",
    "        self.depart_var = StringVar(master)\n",
    "        self.depart_var.set(DEPART_OPTIONS[0])\n",
    "        self.depart_option = OptionMenu(master, self.depart_var, *DEPART_OPTIONS)\n",
    "        self.depart_option.pack()\n",
    "    \n",
    "    def load_individuals(self):\n",
    "        self.faculty_members = self.vivoNS.FacultyMember.instances()\n",
    "        self.undergraduate_students = self.vivoNS.UndergraduateStudent.instances()\n",
    "        self.doctoral_students = self.onto.DoctoralStudent.instances()\n",
    "#         self.organizations.extend(onto.search(type=))\n",
    "        self.documents = self.vivoNS.AcademicArticle.instances()\n",
    "        self.mesh_terms = self.onto.Mesh.instances()\n",
    "        \n",
    "        \n",
    "    def load_graph():\n",
    "        g = rdflib.Graph()\n",
    "        g.parse(\"main-ResearchMentorOntology.owl\")\n",
    "        return g\n",
    "\n",
    "    def load_ontology(self):\n",
    "        onto = get_ontology('main-ResearchMentorOntology.owl')\n",
    "        vivoNS = onto.get_namespace(\"http://vivoweb.org/ontology/core\")\n",
    "        meshNS = onto.get_namespace(\"http://phenomebrowser.net/ontologies/mesh/mesh.owl#\")\n",
    "        onto.load()\n",
    "        return onto, vivoNS\n",
    "    \n",
    "    def get_departments(self, onto, vivoNS):\n",
    "        res = onto.search(type=vivoNS.Division)\n",
    "        return res\n",
    "\n",
    "root = Tk()\n",
    "app = ResearchMentorApp(root)\n",
    "root.mainloop()\n",
    "root.destroy()"
   ]
  },
  {
   "cell_type": "code",
   "execution_count": 5,
   "metadata": {},
   "outputs": [
    {
     "name": "stdout",
     "output_type": "stream",
     "text": [
      "hi there, everyone!\n"
     ]
    }
   ],
   "source": [
    "class App:\n",
    "    def __init__(self, master):\n",
    "        frame = Frame(master)\n",
    "        frame.pack()\n",
    "        \n",
    "        self.button = Button(frame, text=\"QUIT\", fg=\"red\", command=frame.quit)\n",
    "        self.button.pack(side=LEFT)\n",
    "        self.hi_there = Button(frame, text=\"Hellow\", command=self.say_hi)\n",
    "        self.hi_there.pack(side=LEFT)\n",
    "    def say_hi(self):\n",
    "        print(\"hi there, everyone!\")\n",
    "\n",
    "root = Tk()\n",
    "app = App(root)\n",
    "root.mainloop()\n",
    "root.destroy()"
   ]
  },
  {
   "cell_type": "code",
   "execution_count": 3,
   "metadata": {},
   "outputs": [],
   "source": [
    "# hello world app\n",
    "# root = Tk()\n",
    "# w = Label(root, text=\"Hello, world!\")\n",
    "# w.pack()\n",
    "# root.mainloop()"
   ]
  }
 ],
 "metadata": {
  "kernelspec": {
   "display_name": "Python 3",
   "language": "python",
   "name": "python3"
  },
  "language_info": {
   "codemirror_mode": {
    "name": "ipython",
    "version": 3
   },
   "file_extension": ".py",
   "mimetype": "text/x-python",
   "name": "python",
   "nbconvert_exporter": "python",
   "pygments_lexer": "ipython3",
   "version": "3.7.1"
  }
 },
 "nbformat": 4,
 "nbformat_minor": 2
}
