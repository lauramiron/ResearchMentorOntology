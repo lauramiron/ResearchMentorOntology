{
 "cells": [
  {
   "cell_type": "code",
   "execution_count": 2,
   "metadata": {},
   "outputs": [],
   "source": [
    "from tkinter import *\n",
    "from owlready2 import *\n",
    "import pandas as pd\n",
    "import datetime, math"
   ]
  },
  {
   "cell_type": "code",
   "execution_count": null,
   "metadata": {},
   "outputs": [],
   "source": []
  },
  {
   "cell_type": "code",
   "execution_count": 3,
   "metadata": {},
   "outputs": [],
   "source": [
    "class ResearchMentorApp:\n",
    "    def __init__(self, master):\n",
    "        frame = Frame(master)\n",
    "        frame.pack()\n",
    "        \n",
    "        # Quit and enter buttons\n",
    "        self.button = Button(frame, text=\"QUIT\", fg=\"red\", command=frame.quit)\n",
    "        self.button.pack(side=RIGHT)\n",
    "        \n",
    "        self.button = Button(frame, text=\"QUIT\", fg=\"red\", command=frame.quit)\n",
    "        self.button.pack(side=RIGHT)\n",
    "        \n",
    "        # search boxes\n",
    "        SEARCH_BY_OPTIONS = [\"Affliation\",\"MESH\"]\n",
    "        self.search_by_var = StringVar(master)\n",
    "        self.search_by_var.set(SEARCH_BY_OPTIONS[0])\n",
    "        option = OptionMenu(master, self.search_by_var,*SEARCH_BY_OPTIONS)\n",
    "        option.pack()\n",
    "        \n",
    "#         self.hi_there = Button(frame, text=\"Hello\", command=self.say_hi)\n",
    "#         self.hi_there.pack(side=LEFT)\n",
    "#     def say_hi(self):\n",
    "#         print(\"hi there, everyone!\")\n",
    "\n",
    "    def load_ontology():\n",
    "        onto = get_ontology('main-ResearchMentorOntology.owl')\n",
    "        vivoNS = onto.get_namespace(\"http://vivoweb.org/ontology/core\")\n",
    "        meshNS = onto.get_namespace(\"http://phenomebrowser.net/ontologies/mesh/mesh.owl#\")\n",
    "        onto.load()\n",
    "        return onto, vivoNS\n",
    "\n",
    "root = Tk()\n",
    "app = ResearchMentorApp(root)\n",
    "root.mainloop()\n",
    "root.destroy()"
   ]
  },
  {
   "cell_type": "code",
   "execution_count": 5,
   "metadata": {},
   "outputs": [
    {
     "name": "stdout",
     "output_type": "stream",
     "text": [
      "hi there, everyone!\n"
     ]
    }
   ],
   "source": [
    "class App:\n",
    "    def __init__(self, master):\n",
    "        frame = Frame(master)\n",
    "        frame.pack()\n",
    "        \n",
    "        self.button = Button(frame, text=\"QUIT\", fg=\"red\", command=frame.quit)\n",
    "        self.button.pack(side=LEFT)\n",
    "        self.hi_there = Button(frame, text=\"Hellow\", command=self.say_hi)\n",
    "        self.hi_there.pack(side=LEFT)\n",
    "    def say_hi(self):\n",
    "        print(\"hi there, everyone!\")\n",
    "\n",
    "root = Tk()\n",
    "app = App(root)\n",
    "root.mainloop()\n",
    "root.destroy()"
   ]
  },
  {
   "cell_type": "code",
   "execution_count": 3,
   "metadata": {},
   "outputs": [],
   "source": [
    "# hello world app\n",
    "# root = Tk()\n",
    "# w = Label(root, text=\"Hello, world!\")\n",
    "# w.pack()\n",
    "# root.mainloop()"
   ]
  }
 ],
 "metadata": {
  "kernelspec": {
   "display_name": "Python 3",
   "language": "python",
   "name": "python3"
  },
  "language_info": {
   "codemirror_mode": {
    "name": "ipython",
    "version": 3
   },
   "file_extension": ".py",
   "mimetype": "text/x-python",
   "name": "python",
   "nbconvert_exporter": "python",
   "pygments_lexer": "ipython3",
   "version": "3.7.1"
  }
 },
 "nbformat": 4,
 "nbformat_minor": 2
}
