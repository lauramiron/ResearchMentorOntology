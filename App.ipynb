{
 "cells": [
  {
   "cell_type": "code",
   "execution_count": 1,
   "metadata": {},
   "outputs": [],
   "source": [
    "from tkinter import *\n",
    "from owlready2 import *\n",
    "import pandas as pd\n",
    "import datetime, math\n",
    "import rdflib"
   ]
  },
  {
   "cell_type": "code",
   "execution_count": 7,
   "metadata": {},
   "outputs": [
    {
     "data": {
      "text/plain": [
       "get_ontology(\"http://www.semanticweb.org/lauramiron/ontologies/2019/1/merged-research-mentor#\")"
      ]
     },
     "execution_count": 7,
     "metadata": {},
     "output_type": "execute_result"
    }
   ],
   "source": [
    "onto = get_ontology('main-ResearchMentorOntology.owl')\n",
    "vivoNS = onto.get_namespace(\"http://vivoweb.org/ontology/core\")\n",
    "meshNS = onto.get_namespace(\"http://phenomebrowser.net/ontologies/mesh/mesh.owl#\")\n",
    "onto.load()"
   ]
  },
  {
   "cell_type": "code",
   "execution_count": null,
   "metadata": {},
   "outputs": [],
   "source": [
    "class ResearchMentorApp(Tk):\n",
    "    def __init__(self, master):\n",
    "        # preload ontology individuals\n",
    "        self.load_ontology()\n",
    "        self.load_individuals()\n",
    "        \n",
    "        Tk.__init__(self)       \n",
    "        self._frame = None\n",
    "        self.switch_frame(HomePage)\n",
    "        \n",
    "#         # search boxes\n",
    "#         SEARCH_BY_OPTIONS = [\"Affliation\",\"MESH\"]\n",
    "#         self.search_by_var = StringVar(master)\n",
    "#         self.search_by_var.set(SEARCH_BY_OPTIONS[0])\n",
    "#         self.search_by_option = OptionMenu(master, self.search_by_var,*SEARCH_BY_OPTIONS)\n",
    "#         self.search_by_option.pack()\n",
    "        \n",
    "#         depart_indivs = self.get_departments(self.onto,self.vivoNS)\n",
    "#         DEPART_OPTIONS = [indiv.name for indiv in depart_indivs]\n",
    "#         self.depart_var = StringVar(master)\n",
    "#         self.depart_var.set(DEPART_OPTIONS[0])\n",
    "#         self.depart_option = OptionMenu(master, self.depart_var, *DEPART_OPTIONS)\n",
    "#         self.depart_option.pack()\n",
    "    \n",
    "    def switch_frame(self, frame_class):\n",
    "        \"\"\"Destroys current frame and replaces it with a new one.\"\"\"\n",
    "        new_frame = frame_class(self)\n",
    "        if self._frame is not None:\n",
    "            self._frame.destroy()\n",
    "        self._frame = new_frame\n",
    "        self._frame.grid(row=0,column=0)\n",
    "\n",
    "    def load_individuals(self):\n",
    "        self.faculty_members = self.vivoNS.FacultyMember.instances()\n",
    "        self.undergraduate_students = self.vivoNS.UndergraduateStudent.instances()\n",
    "        self.doctoral_students = self.onto.DoctoralStudent.instances()\n",
    "        self.organizations = self.foafNS.Organization.instances()\n",
    "        self.documents = self.vivoNS.AcademicArticle.instances()\n",
    "        self.mesh_terms = {}\n",
    "        for mesh_i in self.onto.Mesh.instances():\n",
    "            if len(mesh_i.label)>0:\n",
    "                self.mesh_terms[mesh_i.label[0]] = mesh_i\n",
    "\n",
    "    def load_ontology(self):\n",
    "        self.onto = get_ontology('main-ResearchMentorOntology.owl')\n",
    "        self.vivoNS = self.onto.get_namespace(\"http://vivoweb.org/ontology/core\")\n",
    "        self.meshNS = self.onto.get_namespace(\"http://phenomebrowser.net/ontologies/mesh/mesh.owl#\")\n",
    "        self.foafNS = self.onto.get_namespace(\"http://xmlns.com/foaf/0.1/\")\n",
    "        self.onto.load()\n",
    "    \n",
    "    def get_departments(self, onto, vivoNS):\n",
    "        res = onto.search(type=vivoNS.Division)\n",
    "        return res\n",
    "    \n",
    "class HomePage(Frame):\n",
    "    def __init__(self,master):\n",
    "        Frame.__init__(self,master)\n",
    "        \n",
    "        Label(self, text=\"Welcome to the Research Mentor Ontology\").grid(row=0,column=0,columnspan=2)\n",
    "        \n",
    "        button = Button(self, text=\"Search by Affliation\", fg=\"red\", command=lambda: master.switch_frame(AffliationSearchPage))\n",
    "        button.grid(row=1,column=0)\n",
    "        \n",
    "        button = Button(self, text=\"Search by Mesh\", fg=\"red\", command=lambda: master.switch_frame(MeshSearchPage))\n",
    "        button.grid(row=1,column=1)\n",
    "            \n",
    "class MeshSearchPage(Frame):\n",
    "    def __init__(self,master):\n",
    "        Frame.__init__(self,master)\n",
    "\n",
    "        MESH_OPTIONS = list(master.mesh_terms.keys())\n",
    "        mesh_var = StringVar(master)\n",
    "        mesh_var.set(MESH_OPTIONS[0])\n",
    "\n",
    "        button = Button(self, text=\"Search\", fg=\"red\", command=lambda: self.search_mesh_term(master,mesh_var.get()))\n",
    "        button.grid(row=0,column=1,sticky=\"nsew\")\n",
    "\n",
    "        mesh_option = OptionMenu(self, mesh_var, *MESH_OPTIONS)\n",
    "        mesh_option.grid(column=0,row=0)\n",
    "        \n",
    "    def search_mesh_term(self,master,term):\n",
    "        fac_results = []\n",
    "        mesh_i = master.mesh_terms[term]\n",
    "        for fac in master.faculty_members:\n",
    "            if mesh_i in fac.hasResearchArea:\n",
    "                fac_results.append(fac)\n",
    "        print(fac_results)\n",
    "\n",
    "\n",
    "root = Tk()\n",
    "app = ResearchMentorApp(root)\n",
    "root.mainloop()\n",
    "root.destroy()"
   ]
  },
  {
   "cell_type": "code",
   "execution_count": 6,
   "metadata": {},
   "outputs": [],
   "source": [
    "# hello world app\n",
    "# root = Tk()\n",
    "# w = Label(root, text=\"Hello, world!\")\n",
    "# w.pack()\n",
    "# root.mainloop()"
   ]
  },
  {
   "cell_type": "code",
   "execution_count": null,
   "metadata": {},
   "outputs": [],
   "source": []
  }
 ],
 "metadata": {
  "kernelspec": {
   "display_name": "Python 3",
   "language": "python",
   "name": "python3"
  },
  "language_info": {
   "codemirror_mode": {
    "name": "ipython",
    "version": 3
   },
   "file_extension": ".py",
   "mimetype": "text/x-python",
   "name": "python",
   "nbconvert_exporter": "python",
   "pygments_lexer": "ipython3",
   "version": "3.7.1"
  }
 },
 "nbformat": 4,
 "nbformat_minor": 2
}
